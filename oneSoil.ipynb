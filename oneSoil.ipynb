{
 "cells": [
  {
   "cell_type": "code",
   "execution_count": null,
   "id": "d96870da",
   "metadata": {
    "ExecuteTime": {
     "end_time": "2021-11-16T19:06:34.087248Z",
     "start_time": "2021-11-16T19:06:34.085110Z"
    }
   },
   "outputs": [],
   "source": [
    "# !pip3 install googletrans\n",
    "# !pip3 install spacy\n",
    "# !pip3 install nltk"
   ]
  },
  {
   "cell_type": "code",
   "execution_count": 1,
   "id": "82baea2e",
   "metadata": {
    "ExecuteTime": {
     "end_time": "2021-11-17T08:46:03.779868Z",
     "start_time": "2021-11-17T08:45:55.426635Z"
    }
   },
   "outputs": [
    {
     "name": "stderr",
     "output_type": "stream",
     "text": [
      "2021-11-17 11:45:59.504599: W tensorflow/stream_executor/platform/default/dso_loader.cc:64] Could not load dynamic library 'libcudart.so.11.0'; dlerror: libcudart.so.11.0: cannot open shared object file: No such file or directory\n",
      "2021-11-17 11:45:59.504637: I tensorflow/stream_executor/cuda/cudart_stub.cc:29] Ignore above cudart dlerror if you do not have a GPU set up on your machine.\n"
     ]
    }
   ],
   "source": [
    "import pandas as pd\n",
    "import geopandas as gpd\n",
    "import psycopg2\n",
    "import pandas.io.sql as sqlio\n",
    "import seaborn as sns\n",
    "import numpy as np\n",
    "import string\n",
    "import re\n",
    "import matplotlib.pyplot as plt\n",
    "\n",
    "import nltk\n",
    "from nltk.tokenize import word_tokenize\n",
    "from nltk.tokenize import RegexpTokenizer\n",
    "from nltk.probability import FreqDist\n",
    "from nltk.stem import PorterStemmer\n",
    "from nltk.stem.wordnet import WordNetLemmatizer\n",
    "from nltk.corpus import stopwords\n",
    "\n",
    "import googletrans\n",
    "from googletrans import Translator\n",
    "import spacy\n",
    "from spacy import displacy\n",
    "from collections import Counter\n",
    "from IPython.display import Markdown, display\n",
    "\n",
    "from sklearn.feature_extraction.text import CountVectorizer\n",
    "from sklearn.model_selection import train_test_split\n",
    "from sklearn.naive_bayes import MultinomialNB\n",
    "from sklearn import metrics\n",
    "from sklearn.feature_extraction.text import TfidfVectorizer\n",
    "from sklearn.model_selection import train_test_split\n",
    "from sklearn.naive_bayes import MultinomialNB\n",
    "from sklearn import metrics"
   ]
  },
  {
   "cell_type": "code",
   "execution_count": 2,
   "id": "a4c0f2a2",
   "metadata": {
    "ExecuteTime": {
     "end_time": "2021-11-17T08:46:03.789494Z",
     "start_time": "2021-11-17T08:46:03.781600Z"
    }
   },
   "outputs": [],
   "source": [
    "def hist(data, bins, title, range = None):\n",
    "    fig = plt.figure(figsize=(8,5))\n",
    "    ax = plt.axes()\n",
    "    plt.ylabel(\"Proportion\")\n",
    "    values, base, _ = plt.hist( data  , bins = bins, density=True, alpha = 0.5, color = \"green\", range = range, label = \"Histogram\")\n",
    "    ax_bis = ax.twinx()\n",
    "    values = np.append(values,0)\n",
    "    ax_bis.plot( base, np.cumsum(values)/ np.cumsum(values)[-1], color='darkorange', marker='o', linestyle='-', markersize = 1, label = \"Cumulative Histogram\" )\n",
    "    plt.ylabel(\"Proportion\")\n",
    "    plt.title(title)\n",
    "    plt.show()\n",
    "    return"
   ]
  },
  {
   "cell_type": "code",
   "execution_count": 3,
   "id": "4391125e",
   "metadata": {
    "ExecuteTime": {
     "end_time": "2021-11-17T08:46:03.855739Z",
     "start_time": "2021-11-17T08:46:03.790625Z"
    }
   },
   "outputs": [],
   "source": [
    "def find_sentences_with_keyword(keyword, document):\n",
    "    \n",
    "    for sentence in document.sents:\n",
    "        sentence = sentence.text\n",
    "        if keyword.lower() in sentence.lower():\n",
    "            sentence = re.sub('\\n', ' ', sentence)\n",
    "            sentence = re.sub(f\"{keyword}\", f\"**{keyword}**\", sentence, flags=re.IGNORECASE)\n",
    "            \n",
    "            display(Markdown(sentence))"
   ]
  },
  {
   "cell_type": "code",
   "execution_count": 4,
   "id": "06a1d67e",
   "metadata": {
    "ExecuteTime": {
     "end_time": "2021-11-17T08:46:03.953553Z",
     "start_time": "2021-11-17T08:46:03.857450Z"
    }
   },
   "outputs": [],
   "source": [
    "conn = psycopg2.connect(\"\"\"\n",
    "    host=rc1c-5lsfxv5qer0uol30.mdb.yandexcloud.net\n",
    "    port=6432\n",
    "    dbname=olist\n",
    "    user=user1\n",
    "    password=olistolist\n",
    "    target_session_attrs=read-write\n",
    "    sslmode=verify-full\n",
    "\"\"\") \n",
    "cur = conn.cursor()"
   ]
  },
  {
   "cell_type": "markdown",
   "id": "a6d3219f",
   "metadata": {},
   "source": [
    "### Распределение отзывов"
   ]
  },
  {
   "cell_type": "markdown",
   "id": "7d9ec0c4",
   "metadata": {},
   "source": [
    "#### Пользователи"
   ]
  },
  {
   "cell_type": "code",
   "execution_count": 5,
   "id": "ac6b7ca3",
   "metadata": {
    "ExecuteTime": {
     "end_time": "2021-11-17T08:46:04.611114Z",
     "start_time": "2021-11-17T08:46:03.955229Z"
    }
   },
   "outputs": [],
   "source": [
    "df=sqlio.read_sql_query('''SELECT customer_id\n",
    "            ,count(distinct review_id) as reviews_cnt\n",
    "            ,count(distinct order_id) as orders_cnt\n",
    "            ,round(avg(review_score)) as review_score\n",
    "    FROM public.orders\n",
    "    left join public.order_reviews using(order_id)\n",
    "    group by customer_id\n",
    "    having count(distinct review_id)>1\n",
    "    order by reviews_cnt desc\n",
    ";''', conn)\n"
   ]
  },
  {
   "cell_type": "markdown",
   "id": "a9d21c9a",
   "metadata": {
    "ExecuteTime": {
     "end_time": "2021-11-09T16:28:02.807025Z",
     "start_time": "2021-11-09T16:28:02.802021Z"
    }
   },
   "source": [
    "Больше половины пользователей ставит в среднем оценку выше 4, примерно четверть юзеров ставит 3 и ниже"
   ]
  },
  {
   "cell_type": "code",
   "execution_count": 6,
   "id": "e3f88672",
   "metadata": {
    "ExecuteTime": {
     "end_time": "2021-11-17T08:46:04.861656Z",
     "start_time": "2021-11-17T08:46:04.612689Z"
    }
   },
   "outputs": [
    {
     "data": {
      "image/png": "[encoded data removed]",
      "text/plain": [
       "<Figure size 576x360 with 2 Axes>"
      ]
     },
     "metadata": {
      "needs_background": "light"
     },
     "output_type": "display_data"
    }
   ],
   "source": [
    "hist(df.review_score, 7, 'Review score distribution by users')"
   ]
  },
  {
   "cell_type": "markdown",
   "id": "31a4a67b",
   "metadata": {
    "ExecuteTime": {
     "end_time": "2021-11-09T16:28:02.807025Z",
     "start_time": "2021-11-09T16:28:02.802021Z"
    }
   },
   "source": [
    "Самые высокие оценки ставят в штатах Амапа и Амазонас, а самые низкие - в Алагоас и Рорайма"
   ]
  },
  {
   "cell_type": "code",
   "execution_count": 7,
   "id": "8d4a4fd2",
   "metadata": {
    "ExecuteTime": {
     "end_time": "2021-11-17T08:46:05.127677Z",
     "start_time": "2021-11-17T08:46:04.863106Z"
    },
    "scrolled": true
   },
   "outputs": [
    {
     "data": {
      "text/html": [
       "<div>\n",
       "<style scoped>\n",
       "    .dataframe tbody tr th:only-of-type {\n",
       "        vertical-align: middle;\n",
       "    }\n",
       "\n",
       "    .dataframe tbody tr th {\n",
       "        vertical-align: top;\n",
       "    }\n",
       "\n",
       "    .dataframe thead th {\n",
       "        text-align: right;\n",
       "    }\n",
       "</style>\n",
       "<table border=\"1\" class=\"dataframe\">\n",
       "  <thead>\n",
       "    <tr style=\"text-align: right;\">\n",
       "      <th></th>\n",
       "      <th>customer_state</th>\n",
       "      <th>review_score</th>\n",
       "    </tr>\n",
       "  </thead>\n",
       "  <tbody>\n",
       "    <tr>\n",
       "      <th>0</th>\n",
       "      <td>AP</td>\n",
       "      <td>4.194030</td>\n",
       "    </tr>\n",
       "    <tr>\n",
       "      <th>1</th>\n",
       "      <td>AM</td>\n",
       "      <td>4.183673</td>\n",
       "    </tr>\n",
       "    <tr>\n",
       "      <th>2</th>\n",
       "      <td>PR</td>\n",
       "      <td>4.180032</td>\n",
       "    </tr>\n",
       "    <tr>\n",
       "      <th>3</th>\n",
       "      <td>SP</td>\n",
       "      <td>4.173951</td>\n",
       "    </tr>\n",
       "    <tr>\n",
       "      <th>4</th>\n",
       "      <td>MG</td>\n",
       "      <td>4.136172</td>\n",
       "    </tr>\n",
       "    <tr>\n",
       "      <th>5</th>\n",
       "      <td>RS</td>\n",
       "      <td>4.133321</td>\n",
       "    </tr>\n",
       "    <tr>\n",
       "      <th>6</th>\n",
       "      <td>MS</td>\n",
       "      <td>4.118785</td>\n",
       "    </tr>\n",
       "    <tr>\n",
       "      <th>7</th>\n",
       "      <td>RN</td>\n",
       "      <td>4.105809</td>\n",
       "    </tr>\n",
       "    <tr>\n",
       "      <th>8</th>\n",
       "      <td>MT</td>\n",
       "      <td>4.102990</td>\n",
       "    </tr>\n",
       "    <tr>\n",
       "      <th>9</th>\n",
       "      <td>TO</td>\n",
       "      <td>4.096774</td>\n",
       "    </tr>\n",
       "    <tr>\n",
       "      <th>10</th>\n",
       "      <td>SC</td>\n",
       "      <td>4.071764</td>\n",
       "    </tr>\n",
       "    <tr>\n",
       "      <th>11</th>\n",
       "      <td>DF</td>\n",
       "      <td>4.064711</td>\n",
       "    </tr>\n",
       "    <tr>\n",
       "      <th>12</th>\n",
       "      <td>RO</td>\n",
       "      <td>4.051587</td>\n",
       "    </tr>\n",
       "    <tr>\n",
       "      <th>13</th>\n",
       "      <td>AC</td>\n",
       "      <td>4.049383</td>\n",
       "    </tr>\n",
       "    <tr>\n",
       "      <th>14</th>\n",
       "      <td>GO</td>\n",
       "      <td>4.042490</td>\n",
       "    </tr>\n",
       "    <tr>\n",
       "      <th>15</th>\n",
       "      <td>ES</td>\n",
       "      <td>4.041667</td>\n",
       "    </tr>\n",
       "    <tr>\n",
       "      <th>16</th>\n",
       "      <td>PB</td>\n",
       "      <td>4.018832</td>\n",
       "    </tr>\n",
       "    <tr>\n",
       "      <th>17</th>\n",
       "      <td>PE</td>\n",
       "      <td>4.011543</td>\n",
       "    </tr>\n",
       "    <tr>\n",
       "      <th>18</th>\n",
       "      <td>PI</td>\n",
       "      <td>3.920570</td>\n",
       "    </tr>\n",
       "    <tr>\n",
       "      <th>19</th>\n",
       "      <td>RJ</td>\n",
       "      <td>3.874971</td>\n",
       "    </tr>\n",
       "    <tr>\n",
       "      <th>20</th>\n",
       "      <td>BA</td>\n",
       "      <td>3.860888</td>\n",
       "    </tr>\n",
       "    <tr>\n",
       "      <th>21</th>\n",
       "      <td>CE</td>\n",
       "      <td>3.851016</td>\n",
       "    </tr>\n",
       "    <tr>\n",
       "      <th>22</th>\n",
       "      <td>PA</td>\n",
       "      <td>3.849174</td>\n",
       "    </tr>\n",
       "    <tr>\n",
       "      <th>23</th>\n",
       "      <td>SE</td>\n",
       "      <td>3.808023</td>\n",
       "    </tr>\n",
       "    <tr>\n",
       "      <th>24</th>\n",
       "      <td>MA</td>\n",
       "      <td>3.764075</td>\n",
       "    </tr>\n",
       "    <tr>\n",
       "      <th>25</th>\n",
       "      <td>AL</td>\n",
       "      <td>3.751208</td>\n",
       "    </tr>\n",
       "    <tr>\n",
       "      <th>26</th>\n",
       "      <td>RR</td>\n",
       "      <td>3.608696</td>\n",
       "    </tr>\n",
       "  </tbody>\n",
       "</table>\n",
       "</div>"
      ],
      "text/plain": [
       "   customer_state  review_score\n",
       "0              AP      4.194030\n",
       "1              AM      4.183673\n",
       "2              PR      4.180032\n",
       "3              SP      4.173951\n",
       "4              MG      4.136172\n",
       "5              RS      4.133321\n",
       "6              MS      4.118785\n",
       "7              RN      4.105809\n",
       "8              MT      4.102990\n",
       "9              TO      4.096774\n",
       "10             SC      4.071764\n",
       "11             DF      4.064711\n",
       "12             RO      4.051587\n",
       "13             AC      4.049383\n",
       "14             GO      4.042490\n",
       "15             ES      4.041667\n",
       "16             PB      4.018832\n",
       "17             PE      4.011543\n",
       "18             PI      3.920570\n",
       "19             RJ      3.874971\n",
       "20             BA      3.860888\n",
       "21             CE      3.851016\n",
       "22             PA      3.849174\n",
       "23             SE      3.808023\n",
       "24             MA      3.764075\n",
       "25             AL      3.751208\n",
       "26             RR      3.608696"
      ]
     },
     "execution_count": 7,
     "metadata": {},
     "output_type": "execute_result"
    }
   ],
   "source": [
    "sqlio.read_sql_query('''SELECT customer_state, avg(review_score) as review_score\n",
    "FROM public.orders left join public.customers using(customer_id) \n",
    "left join public.order_reviews using(order_id)\n",
    "group by customer_state\n",
    "order by review_score desc;''', conn)"
   ]
  },
  {
   "cell_type": "markdown",
   "id": "365bbb6a",
   "metadata": {},
   "source": [
    "Все пользователи сделали по одному заказу. 4 пользователя оставило по 3 оценки на один заказ, еще >500 по 2 оценки"
   ]
  },
  {
   "cell_type": "code",
   "execution_count": 8,
   "id": "1bbdb668",
   "metadata": {
    "ExecuteTime": {
     "end_time": "2021-11-17T08:46:05.136454Z",
     "start_time": "2021-11-17T08:46:05.129192Z"
    }
   },
   "outputs": [
    {
     "data": {
      "text/html": [
       "<div>\n",
       "<style scoped>\n",
       "    .dataframe tbody tr th:only-of-type {\n",
       "        vertical-align: middle;\n",
       "    }\n",
       "\n",
       "    .dataframe tbody tr th {\n",
       "        vertical-align: top;\n",
       "    }\n",
       "\n",
       "    .dataframe thead th {\n",
       "        text-align: right;\n",
       "    }\n",
       "</style>\n",
       "<table border=\"1\" class=\"dataframe\">\n",
       "  <thead>\n",
       "    <tr style=\"text-align: right;\">\n",
       "      <th></th>\n",
       "      <th>customer_id</th>\n",
       "      <th>reviews_cnt</th>\n",
       "      <th>orders_cnt</th>\n",
       "      <th>review_score</th>\n",
       "    </tr>\n",
       "  </thead>\n",
       "  <tbody>\n",
       "    <tr>\n",
       "      <th>0</th>\n",
       "      <td>2a35ad9f439dfc62d35a0202e71d6c66</td>\n",
       "      <td>3</td>\n",
       "      <td>1</td>\n",
       "      <td>3.0</td>\n",
       "    </tr>\n",
       "    <tr>\n",
       "      <th>1</th>\n",
       "      <td>b7770073b02ed1d626a027ce86a4ff82</td>\n",
       "      <td>3</td>\n",
       "      <td>1</td>\n",
       "      <td>5.0</td>\n",
       "    </tr>\n",
       "    <tr>\n",
       "      <th>2</th>\n",
       "      <td>ae0fb7b01c548c4fd30f19f55453ec4a</td>\n",
       "      <td>3</td>\n",
       "      <td>1</td>\n",
       "      <td>4.0</td>\n",
       "    </tr>\n",
       "    <tr>\n",
       "      <th>3</th>\n",
       "      <td>9e29cde4ddb42f9330bcf3c9bc23d177</td>\n",
       "      <td>3</td>\n",
       "      <td>1</td>\n",
       "      <td>1.0</td>\n",
       "    </tr>\n",
       "    <tr>\n",
       "      <th>4</th>\n",
       "      <td>0303e5527d4342ac7939d2bfc0f9f9e2</td>\n",
       "      <td>2</td>\n",
       "      <td>1</td>\n",
       "      <td>5.0</td>\n",
       "    </tr>\n",
       "  </tbody>\n",
       "</table>\n",
       "</div>"
      ],
      "text/plain": [
       "                        customer_id  reviews_cnt  orders_cnt  review_score\n",
       "0  2a35ad9f439dfc62d35a0202e71d6c66            3           1           3.0\n",
       "1  b7770073b02ed1d626a027ce86a4ff82            3           1           5.0\n",
       "2  ae0fb7b01c548c4fd30f19f55453ec4a            3           1           4.0\n",
       "3  9e29cde4ddb42f9330bcf3c9bc23d177            3           1           1.0\n",
       "4  0303e5527d4342ac7939d2bfc0f9f9e2            2           1           5.0"
      ]
     },
     "execution_count": 8,
     "metadata": {},
     "output_type": "execute_result"
    }
   ],
   "source": [
    "df.head()"
   ]
  },
  {
   "cell_type": "markdown",
   "id": "4d59c775",
   "metadata": {},
   "source": [
    "Интересно, что на один заказ оставляют по несколько отзывов с разной оценкой. Например, order_id=03c939fd7fd3b38f8485a0f95798f1f6 с тремя разными оценками с разницей в несколько дней "
   ]
  },
  {
   "cell_type": "code",
   "execution_count": 9,
   "id": "b5df007e",
   "metadata": {
    "ExecuteTime": {
     "end_time": "2021-11-17T08:46:05.217528Z",
     "start_time": "2021-11-17T08:46:05.137899Z"
    }
   },
   "outputs": [
    {
     "data": {
      "text/html": [
       "<div>\n",
       "<style scoped>\n",
       "    .dataframe tbody tr th:only-of-type {\n",
       "        vertical-align: middle;\n",
       "    }\n",
       "\n",
       "    .dataframe tbody tr th {\n",
       "        vertical-align: top;\n",
       "    }\n",
       "\n",
       "    .dataframe thead th {\n",
       "        text-align: right;\n",
       "    }\n",
       "</style>\n",
       "<table border=\"1\" class=\"dataframe\">\n",
       "  <thead>\n",
       "    <tr style=\"text-align: right;\">\n",
       "      <th></th>\n",
       "      <th>order_id</th>\n",
       "      <th>customer_id</th>\n",
       "      <th>order_status</th>\n",
       "      <th>order_purchase_timestamp</th>\n",
       "      <th>order_approved_at</th>\n",
       "      <th>order_delivered_carrier_date</th>\n",
       "      <th>order_delivered_customer_date</th>\n",
       "      <th>order_estimated_delivery_date</th>\n",
       "      <th>review_id</th>\n",
       "      <th>review_score</th>\n",
       "      <th>review_comment_title</th>\n",
       "      <th>review_comment_message</th>\n",
       "      <th>review_creation_date</th>\n",
       "      <th>review_answer_timestamp</th>\n",
       "    </tr>\n",
       "  </thead>\n",
       "  <tbody>\n",
       "    <tr>\n",
       "      <th>0</th>\n",
       "      <td>03c939fd7fd3b38f8485a0f95798f1f6</td>\n",
       "      <td>2a35ad9f439dfc62d35a0202e71d6c66</td>\n",
       "      <td>delivered</td>\n",
       "      <td>2018-02-25 21:01:08</td>\n",
       "      <td>2018-02-26 09:35:46</td>\n",
       "      <td>2018-02-26 22:46:40</td>\n",
       "      <td>2018-03-19 21:48:52</td>\n",
       "      <td>2018-04-02</td>\n",
       "      <td>b04ed893318da5b863e878cd3d0511df</td>\n",
       "      <td>3</td>\n",
       "      <td>None</td>\n",
       "      <td>Um ponto negativo que achei foi a cobrança de ...</td>\n",
       "      <td>2018-03-20</td>\n",
       "      <td>2018-03-21 02:28:23</td>\n",
       "    </tr>\n",
       "    <tr>\n",
       "      <th>1</th>\n",
       "      <td>03c939fd7fd3b38f8485a0f95798f1f6</td>\n",
       "      <td>2a35ad9f439dfc62d35a0202e71d6c66</td>\n",
       "      <td>delivered</td>\n",
       "      <td>2018-02-25 21:01:08</td>\n",
       "      <td>2018-02-26 09:35:46</td>\n",
       "      <td>2018-02-26 22:46:40</td>\n",
       "      <td>2018-03-19 21:48:52</td>\n",
       "      <td>2018-04-02</td>\n",
       "      <td>f4bb9d6dd4fb6dcc2298f0e7b17b8e1e</td>\n",
       "      <td>4</td>\n",
       "      <td>None</td>\n",
       "      <td>None</td>\n",
       "      <td>2018-03-29</td>\n",
       "      <td>2018-03-30 00:29:09</td>\n",
       "    </tr>\n",
       "    <tr>\n",
       "      <th>2</th>\n",
       "      <td>03c939fd7fd3b38f8485a0f95798f1f6</td>\n",
       "      <td>2a35ad9f439dfc62d35a0202e71d6c66</td>\n",
       "      <td>delivered</td>\n",
       "      <td>2018-02-25 21:01:08</td>\n",
       "      <td>2018-02-26 09:35:46</td>\n",
       "      <td>2018-02-26 22:46:40</td>\n",
       "      <td>2018-03-19 21:48:52</td>\n",
       "      <td>2018-04-02</td>\n",
       "      <td>405eb2ea45e1dbe2662541ae5b47e2aa</td>\n",
       "      <td>3</td>\n",
       "      <td>None</td>\n",
       "      <td>Seria ótimo se tivesem entregue os 3 (três) pe...</td>\n",
       "      <td>2018-03-06</td>\n",
       "      <td>2018-03-06 19:50:32</td>\n",
       "    </tr>\n",
       "  </tbody>\n",
       "</table>\n",
       "</div>"
      ],
      "text/plain": [
       "                           order_id                       customer_id  \\\n",
       "0  03c939fd7fd3b38f8485a0f95798f1f6  2a35ad9f439dfc62d35a0202e71d6c66   \n",
       "1  03c939fd7fd3b38f8485a0f95798f1f6  2a35ad9f439dfc62d35a0202e71d6c66   \n",
       "2  03c939fd7fd3b38f8485a0f95798f1f6  2a35ad9f439dfc62d35a0202e71d6c66   \n",
       "\n",
       "  order_status order_purchase_timestamp   order_approved_at  \\\n",
       "0    delivered      2018-02-25 21:01:08 2018-02-26 09:35:46   \n",
       "1    delivered      2018-02-25 21:01:08 2018-02-26 09:35:46   \n",
       "2    delivered      2018-02-25 21:01:08 2018-02-26 09:35:46   \n",
       "\n",
       "  order_delivered_carrier_date order_delivered_customer_date  \\\n",
       "0          2018-02-26 22:46:40           2018-03-19 21:48:52   \n",
       "1          2018-02-26 22:46:40           2018-03-19 21:48:52   \n",
       "2          2018-02-26 22:46:40           2018-03-19 21:48:52   \n",
       "\n",
       "  order_estimated_delivery_date                         review_id  \\\n",
       "0                    2018-04-02  b04ed893318da5b863e878cd3d0511df   \n",
       "1                    2018-04-02  f4bb9d6dd4fb6dcc2298f0e7b17b8e1e   \n",
       "2                    2018-04-02  405eb2ea45e1dbe2662541ae5b47e2aa   \n",
       "\n",
       "   review_score review_comment_title  \\\n",
       "0             3                 None   \n",
       "1             4                 None   \n",
       "2             3                 None   \n",
       "\n",
       "                              review_comment_message review_creation_date  \\\n",
       "0  Um ponto negativo que achei foi a cobrança de ...           2018-03-20   \n",
       "1                                               None           2018-03-29   \n",
       "2  Seria ótimo se tivesem entregue os 3 (três) pe...           2018-03-06   \n",
       "\n",
       "  review_answer_timestamp  \n",
       "0     2018-03-21 02:28:23  \n",
       "1     2018-03-30 00:29:09  \n",
       "2     2018-03-06 19:50:32  "
      ]
     },
     "execution_count": 9,
     "metadata": {},
     "output_type": "execute_result"
    }
   ],
   "source": [
    "df=sqlio.read_sql_query('''SELECT * FROM public.orders left join public.order_reviews using(order_id)\n",
    "where customer_id='2a35ad9f439dfc62d35a0202e71d6c66'\n",
    ";''', conn)\n",
    "df"
   ]
  },
  {
   "cell_type": "code",
   "execution_count": 10,
   "id": "11b0dcf4",
   "metadata": {
    "ExecuteTime": {
     "end_time": "2021-11-17T08:46:05.244731Z",
     "start_time": "2021-11-17T08:46:05.220165Z"
    },
    "scrolled": true
   },
   "outputs": [
    {
     "data": {
      "text/html": [
       "<div>\n",
       "<style scoped>\n",
       "    .dataframe tbody tr th:only-of-type {\n",
       "        vertical-align: middle;\n",
       "    }\n",
       "\n",
       "    .dataframe tbody tr th {\n",
       "        vertical-align: top;\n",
       "    }\n",
       "\n",
       "    .dataframe thead th {\n",
       "        text-align: right;\n",
       "    }\n",
       "</style>\n",
       "<table border=\"1\" class=\"dataframe\">\n",
       "  <thead>\n",
       "    <tr style=\"text-align: right;\">\n",
       "      <th></th>\n",
       "      <th>order_id</th>\n",
       "      <th>order_item_id</th>\n",
       "      <th>product_id</th>\n",
       "      <th>seller_id</th>\n",
       "      <th>shipping_limit_date</th>\n",
       "      <th>price</th>\n",
       "      <th>freight_value</th>\n",
       "    </tr>\n",
       "  </thead>\n",
       "  <tbody>\n",
       "    <tr>\n",
       "      <th>0</th>\n",
       "      <td>03c939fd7fd3b38f8485a0f95798f1f6</td>\n",
       "      <td>1</td>\n",
       "      <td>ab5da1daa941470d14366f4e76a99dd2</td>\n",
       "      <td>d91fb3b7d041e83b64a00a3edfb37e4f</td>\n",
       "      <td>2018-03-02 09:35:46</td>\n",
       "      <td>26.0</td>\n",
       "      <td>16.11</td>\n",
       "    </tr>\n",
       "  </tbody>\n",
       "</table>\n",
       "</div>"
      ],
      "text/plain": [
       "                           order_id  order_item_id  \\\n",
       "0  03c939fd7fd3b38f8485a0f95798f1f6              1   \n",
       "\n",
       "                         product_id                         seller_id  \\\n",
       "0  ab5da1daa941470d14366f4e76a99dd2  d91fb3b7d041e83b64a00a3edfb37e4f   \n",
       "\n",
       "  shipping_limit_date  price  freight_value  \n",
       "0 2018-03-02 09:35:46   26.0          16.11  "
      ]
     },
     "execution_count": 10,
     "metadata": {},
     "output_type": "execute_result"
    }
   ],
   "source": [
    "sqlio.read_sql_query('''SELECT * FROM public.order_items where order_id='03c939fd7fd3b38f8485a0f95798f1f6';''', conn)"
   ]
  },
  {
   "cell_type": "markdown",
   "id": "e21a8073",
   "metadata": {},
   "source": [
    "Отзывы связаны с доставкой товаров из заказа по-отдельности. Странно, что в заказе при этом указан один товар"
   ]
  },
  {
   "cell_type": "code",
   "execution_count": 11,
   "id": "4da946ad",
   "metadata": {
    "ExecuteTime": {
     "end_time": "2021-11-17T08:46:05.488223Z",
     "start_time": "2021-11-17T08:46:05.246293Z"
    }
   },
   "outputs": [
    {
     "data": {
      "text/plain": [
       "'Негативным моментом, который я обнаружил, было взимание 3 сборов за доставку, поскольку я купил 3 идентичных продукта за одну покупку.\\r\\nИ даже покупая продукты вместе, они приехали по отдельности.'"
      ]
     },
     "execution_count": 11,
     "metadata": {},
     "output_type": "execute_result"
    }
   ],
   "source": [
    "translator = Translator()\n",
    "translator.translate(df[df.order_id=='03c939fd7fd3b38f8485a0f95798f1f6'].review_comment_message[0], src='pt', dest='ru').text"
   ]
  },
  {
   "cell_type": "code",
   "execution_count": 12,
   "id": "38952962",
   "metadata": {
    "ExecuteTime": {
     "end_time": "2021-11-17T08:46:05.624801Z",
     "start_time": "2021-11-17T08:46:05.489717Z"
    }
   },
   "outputs": [
    {
     "data": {
      "text/plain": [
       "'Было бы здорово, если бы они доставили сразу все 3 (три) заказа.'"
      ]
     },
     "execution_count": 12,
     "metadata": {},
     "output_type": "execute_result"
    }
   ],
   "source": [
    "translator.translate(df[df.order_id=='03c939fd7fd3b38f8485a0f95798f1f6'].review_comment_message[2], src='pt', dest='ru').text"
   ]
  },
  {
   "cell_type": "markdown",
   "id": "08b72549",
   "metadata": {
    "ExecuteTime": {
     "end_time": "2021-11-09T16:28:02.807025Z",
     "start_time": "2021-11-09T16:28:02.802021Z"
    }
   },
   "source": [
    "#### Продавцы"
   ]
  },
  {
   "cell_type": "code",
   "execution_count": 13,
   "id": "833773a4",
   "metadata": {
    "ExecuteTime": {
     "end_time": "2021-11-17T08:46:05.822433Z",
     "start_time": "2021-11-17T08:46:05.626404Z"
    }
   },
   "outputs": [],
   "source": [
    "df=sqlio.read_sql_query('''with a as (SELECT seller_id,order_id,review_score\n",
    "FROM public.order_items \n",
    "left join public.order_reviews using(order_id)\n",
    "left join public.sellers using(seller_id)\n",
    "where review_score is not null group by seller_id,order_id,review_score)\n",
    "select seller_id,avg(review_score) as review_score,count(distinct order_id) as orders from a group by seller_id;''', conn)"
   ]
  },
  {
   "cell_type": "markdown",
   "id": "02823082",
   "metadata": {
    "ExecuteTime": {
     "end_time": "2021-11-09T16:28:02.807025Z",
     "start_time": "2021-11-09T16:28:02.802021Z"
    }
   },
   "source": [
    "Более 65% магазинов имеют оценку заказов от 4 и выше. У 16% средняя оценка равна 5, у 14% - оценка 3 и ниже"
   ]
  },
  {
   "cell_type": "code",
   "execution_count": 14,
   "id": "92b16a3a",
   "metadata": {
    "ExecuteTime": {
     "end_time": "2021-11-17T08:46:06.055294Z",
     "start_time": "2021-11-17T08:46:05.824014Z"
    }
   },
   "outputs": [
    {
     "data": {
      "image/png": "[encoded data removed]",
      "text/plain": [
       "<Figure size 576x360 with 2 Axes>"
      ]
     },
     "metadata": {
      "needs_background": "light"
     },
     "output_type": "display_data"
    }
   ],
   "source": [
    "hist(df.review_score, 15, 'Review score distribution by sellers')"
   ]
  },
  {
   "cell_type": "code",
   "execution_count": 15,
   "id": "7b5a8b3b",
   "metadata": {
    "ExecuteTime": {
     "end_time": "2021-11-17T08:46:06.061298Z",
     "start_time": "2021-11-17T08:46:06.056755Z"
    }
   },
   "outputs": [
    {
     "data": {
      "text/plain": [
       "0.13592233009708737"
      ]
     },
     "execution_count": 15,
     "metadata": {},
     "output_type": "execute_result"
    }
   ],
   "source": [
    "len(df[df.review_score<=3])/len(df)"
   ]
  },
  {
   "cell_type": "code",
   "execution_count": 16,
   "id": "4cdc1e74",
   "metadata": {
    "ExecuteTime": {
     "end_time": "2021-11-17T08:46:06.305122Z",
     "start_time": "2021-11-17T08:46:06.062732Z"
    }
   },
   "outputs": [],
   "source": [
    "df=sqlio.read_sql_query('''with a as (SELECT seller_id,order_id,count(*) as items\n",
    "FROM public.order_items left join public.sellers using(seller_id) group by seller_id,order_id)\n",
    "select seller_id,count(distinct order_id) as orders,sum(items) as items from a group by seller_id;''', conn)"
   ]
  },
  {
   "cell_type": "markdown",
   "id": "94f581e1",
   "metadata": {
    "ExecuteTime": {
     "end_time": "2021-11-09T16:28:02.807025Z",
     "start_time": "2021-11-09T16:28:02.802021Z"
    }
   },
   "source": [
    "Самый популярный магазин seller_id=6560211a19b47992c3666cc44a7e94c0. В нем было продано более 2k товаров"
   ]
  },
  {
   "cell_type": "code",
   "execution_count": 17,
   "id": "c4635903",
   "metadata": {
    "ExecuteTime": {
     "end_time": "2021-11-17T08:46:06.314010Z",
     "start_time": "2021-11-17T08:46:06.306808Z"
    }
   },
   "outputs": [
    {
     "data": {
      "text/html": [
       "<div>\n",
       "<style scoped>\n",
       "    .dataframe tbody tr th:only-of-type {\n",
       "        vertical-align: middle;\n",
       "    }\n",
       "\n",
       "    .dataframe tbody tr th {\n",
       "        vertical-align: top;\n",
       "    }\n",
       "\n",
       "    .dataframe thead th {\n",
       "        text-align: right;\n",
       "    }\n",
       "</style>\n",
       "<table border=\"1\" class=\"dataframe\">\n",
       "  <thead>\n",
       "    <tr style=\"text-align: right;\">\n",
       "      <th></th>\n",
       "      <th>seller_id</th>\n",
       "      <th>orders</th>\n",
       "      <th>items</th>\n",
       "    </tr>\n",
       "  </thead>\n",
       "  <tbody>\n",
       "    <tr>\n",
       "      <th>1235</th>\n",
       "      <td>6560211a19b47992c3666cc44a7e94c0</td>\n",
       "      <td>1854</td>\n",
       "      <td>2033.0</td>\n",
       "    </tr>\n",
       "    <tr>\n",
       "      <th>881</th>\n",
       "      <td>4a3ca9315b744ce9f8e9374361493884</td>\n",
       "      <td>1806</td>\n",
       "      <td>1987.0</td>\n",
       "    </tr>\n",
       "    <tr>\n",
       "      <th>2481</th>\n",
       "      <td>cc419e0650a3c5ba77189a1882b7556a</td>\n",
       "      <td>1706</td>\n",
       "      <td>1775.0</td>\n",
       "    </tr>\n",
       "  </tbody>\n",
       "</table>\n",
       "</div>"
      ],
      "text/plain": [
       "                             seller_id  orders   items\n",
       "1235  6560211a19b47992c3666cc44a7e94c0    1854  2033.0\n",
       "881   4a3ca9315b744ce9f8e9374361493884    1806  1987.0\n",
       "2481  cc419e0650a3c5ba77189a1882b7556a    1706  1775.0"
      ]
     },
     "execution_count": 17,
     "metadata": {},
     "output_type": "execute_result"
    }
   ],
   "source": [
    "df.sort_values('orders',ascending=False)[:3]"
   ]
  },
  {
   "cell_type": "markdown",
   "id": "65309551",
   "metadata": {
    "ExecuteTime": {
     "end_time": "2021-11-09T16:28:02.807025Z",
     "start_time": "2021-11-09T16:28:02.802021Z"
    }
   },
   "source": [
    "7% магазинов делает 60% всех заказов (более 100 заказов на магазин)"
   ]
  },
  {
   "cell_type": "code",
   "execution_count": 18,
   "id": "1e0dd8df",
   "metadata": {
    "ExecuteTime": {
     "end_time": "2021-11-17T08:46:06.358072Z",
     "start_time": "2021-11-17T08:46:06.315216Z"
    }
   },
   "outputs": [
    {
     "data": {
      "text/plain": [
       "(0.06785137318255251, 0.5996300369963004)"
      ]
     },
     "execution_count": 18,
     "metadata": {},
     "output_type": "execute_result"
    }
   ],
   "source": [
    "len(df[df.orders>100])/len(df), df[df.orders>100].orders.sum()/df.orders.sum()"
   ]
  },
  {
   "cell_type": "markdown",
   "id": "f720f304",
   "metadata": {
    "ExecuteTime": {
     "end_time": "2021-11-09T16:28:02.807025Z",
     "start_time": "2021-11-09T16:28:02.802021Z"
    }
   },
   "source": [
    "У 3/4 магазинов было менее 20 заказов"
   ]
  },
  {
   "cell_type": "code",
   "execution_count": 19,
   "id": "1611898f",
   "metadata": {
    "ExecuteTime": {
     "end_time": "2021-11-17T08:46:06.616097Z",
     "start_time": "2021-11-17T08:46:06.359370Z"
    }
   },
   "outputs": [
    {
     "data": {
      "image/png": "[encoded data removed]",
      "text/plain": [
       "<Figure size 576x360 with 2 Axes>"
      ]
     },
     "metadata": {
      "needs_background": "light"
     },
     "output_type": "display_data"
    }
   ],
   "source": [
    "hist(df[df.orders<100].orders, 30, 'Orders distribution by sellers')"
   ]
  },
  {
   "cell_type": "code",
   "execution_count": 20,
   "id": "807f8bbd",
   "metadata": {
    "ExecuteTime": {
     "end_time": "2021-11-17T08:46:06.621727Z",
     "start_time": "2021-11-17T08:46:06.617606Z"
    }
   },
   "outputs": [
    {
     "data": {
      "text/plain": [
       "0.7421647819063005"
      ]
     },
     "execution_count": 20,
     "metadata": {},
     "output_type": "execute_result"
    }
   ],
   "source": [
    "len(df[df.orders<=20])/len(df)"
   ]
  },
  {
   "cell_type": "markdown",
   "id": "1d6d2c44",
   "metadata": {},
   "source": [
    "#### Товары"
   ]
  },
  {
   "cell_type": "code",
   "execution_count": 21,
   "id": "4a93b708",
   "metadata": {
    "ExecuteTime": {
     "end_time": "2021-11-17T08:46:06.686447Z",
     "start_time": "2021-11-17T08:46:06.623032Z"
    }
   },
   "outputs": [],
   "source": [
    "product_category_name_translation = pd.read_csv('product_category_name_translation.csv')"
   ]
  },
  {
   "cell_type": "code",
   "execution_count": 22,
   "id": "4601b31e",
   "metadata": {
    "ExecuteTime": {
     "end_time": "2021-11-17T08:46:07.133272Z",
     "start_time": "2021-11-17T08:46:06.688456Z"
    }
   },
   "outputs": [],
   "source": [
    "df=sqlio.read_sql_query('''with a as (SELECT\n",
    "       distinct order_id, product_category_name, review_score\n",
    "    FROM public.order_items\n",
    "    left join public.products using(product_id)\n",
    "    left join public.order_reviews using(order_id)\n",
    "   )\n",
    "   select \n",
    "   product_category_name, avg(review_score) as review_score, count(distinct order_id) as orders\n",
    "   from a\n",
    "   group by product_category_name\n",
    ";''', conn).merge(product_category_name_translation,on='product_category_name')"
   ]
  },
  {
   "cell_type": "markdown",
   "id": "fc138d26",
   "metadata": {},
   "source": [
    "Самые высокие оценки у музыкальных товаров и детской одежды, самые низкие - у офисной мебели и услуг безопасности"
   ]
  },
  {
   "cell_type": "code",
   "execution_count": 23,
   "id": "ed0bd357",
   "metadata": {
    "ExecuteTime": {
     "end_time": "2021-11-17T08:46:07.142629Z",
     "start_time": "2021-11-17T08:46:07.134891Z"
    }
   },
   "outputs": [
    {
     "data": {
      "text/html": [
       "<div>\n",
       "<style scoped>\n",
       "    .dataframe tbody tr th:only-of-type {\n",
       "        vertical-align: middle;\n",
       "    }\n",
       "\n",
       "    .dataframe tbody tr th {\n",
       "        vertical-align: top;\n",
       "    }\n",
       "\n",
       "    .dataframe thead th {\n",
       "        text-align: right;\n",
       "    }\n",
       "</style>\n",
       "<table border=\"1\" class=\"dataframe\">\n",
       "  <thead>\n",
       "    <tr style=\"text-align: right;\">\n",
       "      <th></th>\n",
       "      <th>product_category_name_english</th>\n",
       "      <th>review_score</th>\n",
       "    </tr>\n",
       "  </thead>\n",
       "  <tbody>\n",
       "    <tr>\n",
       "      <th>37</th>\n",
       "      <td>fashion_childrens_clothes</td>\n",
       "      <td>4.500000</td>\n",
       "    </tr>\n",
       "    <tr>\n",
       "      <th>17</th>\n",
       "      <td>cds_dvds_musicals</td>\n",
       "      <td>4.666667</td>\n",
       "    </tr>\n",
       "  </tbody>\n",
       "</table>\n",
       "</div>"
      ],
      "text/plain": [
       "   product_category_name_english  review_score\n",
       "37     fashion_childrens_clothes      4.500000\n",
       "17             cds_dvds_musicals      4.666667"
      ]
     },
     "execution_count": 23,
     "metadata": {},
     "output_type": "execute_result"
    }
   ],
   "source": [
    "df[['product_category_name_english','review_score']].sort_values('review_score').tail(2)"
   ]
  },
  {
   "cell_type": "code",
   "execution_count": 24,
   "id": "281e8805",
   "metadata": {
    "ExecuteTime": {
     "end_time": "2021-11-17T08:46:07.210114Z",
     "start_time": "2021-11-17T08:46:07.143992Z"
    }
   },
   "outputs": [
    {
     "data": {
      "text/html": [
       "<div>\n",
       "<style scoped>\n",
       "    .dataframe tbody tr th:only-of-type {\n",
       "        vertical-align: middle;\n",
       "    }\n",
       "\n",
       "    .dataframe tbody tr th {\n",
       "        vertical-align: top;\n",
       "    }\n",
       "\n",
       "    .dataframe thead th {\n",
       "        text-align: right;\n",
       "    }\n",
       "</style>\n",
       "<table border=\"1\" class=\"dataframe\">\n",
       "  <thead>\n",
       "    <tr style=\"text-align: right;\">\n",
       "      <th></th>\n",
       "      <th>product_category_name_english</th>\n",
       "      <th>review_score</th>\n",
       "    </tr>\n",
       "  </thead>\n",
       "  <tbody>\n",
       "    <tr>\n",
       "      <th>65</th>\n",
       "      <td>security_and_services</td>\n",
       "      <td>2.500000</td>\n",
       "    </tr>\n",
       "    <tr>\n",
       "      <th>55</th>\n",
       "      <td>office_furniture</td>\n",
       "      <td>3.615324</td>\n",
       "    </tr>\n",
       "  </tbody>\n",
       "</table>\n",
       "</div>"
      ],
      "text/plain": [
       "   product_category_name_english  review_score\n",
       "65         security_and_services      2.500000\n",
       "55              office_furniture      3.615324"
      ]
     },
     "execution_count": 24,
     "metadata": {},
     "output_type": "execute_result"
    }
   ],
   "source": [
    "df[['product_category_name_english','review_score']].sort_values('review_score').head(2)"
   ]
  },
  {
   "cell_type": "markdown",
   "id": "5e81b850",
   "metadata": {},
   "source": [
    "Чаще всего заказывают товары для дома и красоты/здоровья"
   ]
  },
  {
   "cell_type": "code",
   "execution_count": 25,
   "id": "786cc71e",
   "metadata": {
    "ExecuteTime": {
     "end_time": "2021-11-17T08:46:07.270854Z",
     "start_time": "2021-11-17T08:46:07.211465Z"
    },
    "scrolled": true
   },
   "outputs": [
    {
     "data": {
      "text/html": [
       "<div>\n",
       "<style scoped>\n",
       "    .dataframe tbody tr th:only-of-type {\n",
       "        vertical-align: middle;\n",
       "    }\n",
       "\n",
       "    .dataframe tbody tr th {\n",
       "        vertical-align: top;\n",
       "    }\n",
       "\n",
       "    .dataframe thead th {\n",
       "        text-align: right;\n",
       "    }\n",
       "</style>\n",
       "<table border=\"1\" class=\"dataframe\">\n",
       "  <thead>\n",
       "    <tr style=\"text-align: right;\">\n",
       "      <th></th>\n",
       "      <th>product_category_name_english</th>\n",
       "      <th>orders</th>\n",
       "    </tr>\n",
       "  </thead>\n",
       "  <tbody>\n",
       "    <tr>\n",
       "      <th>11</th>\n",
       "      <td>health_beauty</td>\n",
       "      <td>8836</td>\n",
       "    </tr>\n",
       "    <tr>\n",
       "      <th>13</th>\n",
       "      <td>bed_bath_table</td>\n",
       "      <td>9417</td>\n",
       "    </tr>\n",
       "  </tbody>\n",
       "</table>\n",
       "</div>"
      ],
      "text/plain": [
       "   product_category_name_english  orders\n",
       "11                 health_beauty    8836\n",
       "13                bed_bath_table    9417"
      ]
     },
     "execution_count": 25,
     "metadata": {},
     "output_type": "execute_result"
    }
   ],
   "source": [
    "df[['product_category_name_english','orders']].sort_values('orders').tail(2)"
   ]
  },
  {
   "cell_type": "markdown",
   "id": "8bf36a30",
   "metadata": {
    "ExecuteTime": {
     "end_time": "2021-11-09T16:28:02.807025Z",
     "start_time": "2021-11-09T16:28:02.802021Z"
    }
   },
   "source": [
    "В абсолютном большинстве заказов (90%) содержится 1 товар. Более 2 товаров всего в 2% заказов"
   ]
  },
  {
   "cell_type": "code",
   "execution_count": 26,
   "id": "155f053c",
   "metadata": {
    "ExecuteTime": {
     "end_time": "2021-11-17T08:46:07.482593Z",
     "start_time": "2021-11-17T08:46:07.272300Z"
    }
   },
   "outputs": [
    {
     "data": {
      "text/plain": [
       "(0.9006445989499929, 0.023179210670342367)"
      ]
     },
     "execution_count": 26,
     "metadata": {},
     "output_type": "execute_result"
    }
   ],
   "source": [
    "df=sqlio.read_sql_query('''SELECT order_id, count(*) as items FROM public.order_items group by order_id;''', conn)\n",
    "len(df[df['items']==1])/len(df),len(df[df['items']>2])/len(df)"
   ]
  },
  {
   "cell_type": "code",
   "execution_count": 27,
   "id": "9652e7fd",
   "metadata": {
    "ExecuteTime": {
     "end_time": "2021-11-17T08:46:07.704845Z",
     "start_time": "2021-11-17T08:46:07.484022Z"
    }
   },
   "outputs": [
    {
     "data": {
      "image/png": "[encoded data removed]",
      "text/plain": [
       "<Figure size 576x360 with 2 Axes>"
      ]
     },
     "metadata": {
      "needs_background": "light"
     },
     "output_type": "display_data"
    }
   ],
   "source": [
    "hist(df['items'], 20, 'Order items distribution by orders')"
   ]
  },
  {
   "cell_type": "code",
   "execution_count": 75,
   "id": "cf159b4e",
   "metadata": {
    "ExecuteTime": {
     "end_time": "2021-11-17T08:50:39.767003Z",
     "start_time": "2021-11-17T08:50:39.419335Z"
    }
   },
   "outputs": [],
   "source": [
    "df=sqlio.read_sql_query('''with a as (SELECT distinct order_id, product_id, review_score FROM public.order_items \n",
    "left join public.order_reviews using(order_id)\n",
    "where review_score is not null)\n",
    "select product_id, avg(review_score) as review_score from a group by product_id\n",
    ";''', conn)"
   ]
  },
  {
   "cell_type": "markdown",
   "id": "0a817ae1",
   "metadata": {
    "ExecuteTime": {
     "end_time": "2021-11-09T16:28:02.807025Z",
     "start_time": "2021-11-09T16:28:02.802021Z"
    }
   },
   "source": [
    "У 20% товаров оценка 3 и ниже. Почти у половины товаров оценка 5"
   ]
  },
  {
   "cell_type": "code",
   "execution_count": 29,
   "id": "f4adaff8",
   "metadata": {
    "ExecuteTime": {
     "end_time": "2021-11-17T08:46:08.243763Z",
     "start_time": "2021-11-17T08:46:08.019411Z"
    }
   },
   "outputs": [
    {
     "data": {
      "image/png": "[encoded data removed]",
      "text/plain": [
       "<Figure size 576x360 with 2 Axes>"
      ]
     },
     "metadata": {
      "needs_background": "light"
     },
     "output_type": "display_data"
    }
   ],
   "source": [
    "hist(df.review_score, 10, 'Review score distribution by products')"
   ]
  },
  {
   "cell_type": "code",
   "execution_count": 30,
   "id": "479ed4c0",
   "metadata": {
    "ExecuteTime": {
     "end_time": "2021-11-17T08:46:08.336119Z",
     "start_time": "2021-11-17T08:46:08.245329Z"
    }
   },
   "outputs": [],
   "source": [
    "products = sqlio.read_sql_query(\"SELECT * FROM public.products;\", conn)"
   ]
  },
  {
   "cell_type": "code",
   "execution_count": 31,
   "id": "a048dde0",
   "metadata": {
    "ExecuteTime": {
     "end_time": "2021-11-17T08:46:08.378550Z",
     "start_time": "2021-11-17T08:46:08.337925Z"
    },
    "scrolled": true
   },
   "outputs": [],
   "source": [
    "df=df.merge(products,on='product_id').sort_values('review_score').merge(product_category_name_translation,on='product_category_name',how='left')"
   ]
  },
  {
   "cell_type": "code",
   "execution_count": 32,
   "id": "b685e68a",
   "metadata": {
    "ExecuteTime": {
     "end_time": "2021-11-17T08:46:08.384648Z",
     "start_time": "2021-11-17T08:46:08.380173Z"
    }
   },
   "outputs": [],
   "source": [
    "df['review_score_round']=round(df['review_score'])"
   ]
  },
  {
   "cell_type": "markdown",
   "id": "f99fb07b",
   "metadata": {},
   "source": [
    "Товары с более подробным описанием и с более высоким качеством фото получают в среднем выше оценку"
   ]
  },
  {
   "cell_type": "code",
   "execution_count": 33,
   "id": "560d903d",
   "metadata": {
    "ExecuteTime": {
     "end_time": "2021-11-17T08:46:08.447932Z",
     "start_time": "2021-11-17T08:46:08.386098Z"
    }
   },
   "outputs": [
    {
     "data": {
      "text/html": [
       "<div>\n",
       "<style scoped>\n",
       "    .dataframe tbody tr th:only-of-type {\n",
       "        vertical-align: middle;\n",
       "    }\n",
       "\n",
       "    .dataframe tbody tr th {\n",
       "        vertical-align: top;\n",
       "    }\n",
       "\n",
       "    .dataframe thead th {\n",
       "        text-align: right;\n",
       "    }\n",
       "</style>\n",
       "<table border=\"1\" class=\"dataframe\">\n",
       "  <thead>\n",
       "    <tr style=\"text-align: right;\">\n",
       "      <th></th>\n",
       "      <th>review_score_round</th>\n",
       "      <th>2.0</th>\n",
       "      <th>3.0</th>\n",
       "      <th>4.0</th>\n",
       "      <th>5.0</th>\n",
       "    </tr>\n",
       "  </thead>\n",
       "  <tbody>\n",
       "    <tr>\n",
       "      <th>product_description_lenght</th>\n",
       "      <th>mean</th>\n",
       "      <td>705.813740</td>\n",
       "      <td>738.111988</td>\n",
       "      <td>777.052291</td>\n",
       "      <td>785.141486</td>\n",
       "    </tr>\n",
       "    <tr>\n",
       "      <th>product_photos_qty</th>\n",
       "      <th>mean</th>\n",
       "      <td>2.076336</td>\n",
       "      <td>2.115933</td>\n",
       "      <td>2.252003</td>\n",
       "      <td>2.190993</td>\n",
       "    </tr>\n",
       "  </tbody>\n",
       "</table>\n",
       "</div>"
      ],
      "text/plain": [
       "review_score_round                      2.0         3.0         4.0  \\\n",
       "product_description_lenght mean  705.813740  738.111988  777.052291   \n",
       "product_photos_qty         mean    2.076336    2.115933    2.252003   \n",
       "\n",
       "review_score_round                      5.0  \n",
       "product_description_lenght mean  785.141486  \n",
       "product_photos_qty         mean    2.190993  "
      ]
     },
     "execution_count": 33,
     "metadata": {},
     "output_type": "execute_result"
    }
   ],
   "source": [
    "df[df.review_score_round>1].groupby(['review_score_round'])[['product_description_lenght','product_photos_qty']].agg([np.mean]).T"
   ]
  },
  {
   "cell_type": "code",
   "execution_count": null,
   "id": "3c840fa9",
   "metadata": {},
   "outputs": [],
   "source": []
  },
  {
   "cell_type": "markdown",
   "id": "6cf240a2",
   "metadata": {},
   "source": [
    "#### Сроки доставки"
   ]
  },
  {
   "cell_type": "code",
   "execution_count": 79,
   "id": "b1772878",
   "metadata": {
    "ExecuteTime": {
     "end_time": "2021-11-17T08:56:00.288801Z",
     "start_time": "2021-11-17T08:55:59.181840Z"
    }
   },
   "outputs": [],
   "source": [
    "df=sqlio.read_sql_query('''SELECT * FROM public.orders join public.order_reviews using(order_id);''', conn)"
   ]
  },
  {
   "cell_type": "code",
   "execution_count": 80,
   "id": "148c53b9",
   "metadata": {
    "ExecuteTime": {
     "end_time": "2021-11-17T08:56:00.867093Z",
     "start_time": "2021-11-17T08:56:00.291409Z"
    }
   },
   "outputs": [],
   "source": [
    "df['delivery_time']=df['order_delivered_customer_date']-df['order_approved_at']\n",
    "df['delivery_time']=df['delivery_time'].apply(lambda x: x.total_seconds()/(60*60*24))"
   ]
  },
  {
   "cell_type": "code",
   "execution_count": 81,
   "id": "432fb93b",
   "metadata": {
    "ExecuteTime": {
     "end_time": "2021-11-17T08:56:00.883825Z",
     "start_time": "2021-11-17T08:56:00.868772Z"
    }
   },
   "outputs": [
    {
     "data": {
      "text/html": [
       "<div>\n",
       "<style scoped>\n",
       "    .dataframe tbody tr th:only-of-type {\n",
       "        vertical-align: middle;\n",
       "    }\n",
       "\n",
       "    .dataframe tbody tr th {\n",
       "        vertical-align: top;\n",
       "    }\n",
       "\n",
       "    .dataframe thead th {\n",
       "        text-align: right;\n",
       "    }\n",
       "</style>\n",
       "<table border=\"1\" class=\"dataframe\">\n",
       "  <thead>\n",
       "    <tr style=\"text-align: right;\">\n",
       "      <th></th>\n",
       "      <th>order_id</th>\n",
       "      <th>customer_id</th>\n",
       "      <th>order_status</th>\n",
       "      <th>order_purchase_timestamp</th>\n",
       "      <th>order_approved_at</th>\n",
       "      <th>order_delivered_carrier_date</th>\n",
       "      <th>order_delivered_customer_date</th>\n",
       "      <th>order_estimated_delivery_date</th>\n",
       "      <th>review_id</th>\n",
       "      <th>review_score</th>\n",
       "      <th>review_comment_title</th>\n",
       "      <th>review_comment_message</th>\n",
       "      <th>review_creation_date</th>\n",
       "      <th>review_answer_timestamp</th>\n",
       "      <th>delivery_time</th>\n",
       "    </tr>\n",
       "  </thead>\n",
       "  <tbody>\n",
       "    <tr>\n",
       "      <th>0</th>\n",
       "      <td>e48aa0d2dcec3a2e87348811bcfdf22b</td>\n",
       "      <td>840be0730010e9580efd289bc9f37706</td>\n",
       "      <td>delivered</td>\n",
       "      <td>2017-06-30 15:38:46</td>\n",
       "      <td>2017-06-30 15:50:17</td>\n",
       "      <td>2017-07-03 16:22:53</td>\n",
       "      <td>2017-07-15 12:57:24</td>\n",
       "      <td>2017-08-03</td>\n",
       "      <td>07f9bee5d1b850860defd761afa7ff16</td>\n",
       "      <td>5</td>\n",
       "      <td>None</td>\n",
       "      <td>None</td>\n",
       "      <td>2017-07-16</td>\n",
       "      <td>2017-07-18 19:30:34</td>\n",
       "      <td>14.879942</td>\n",
       "    </tr>\n",
       "    <tr>\n",
       "      <th>1</th>\n",
       "      <td>c31a859e34e3adac22f376954e19b39d</td>\n",
       "      <td>98f485515e575607a8003b17e91990bd</td>\n",
       "      <td>delivered</td>\n",
       "      <td>2018-08-07 23:12:29</td>\n",
       "      <td>2018-08-07 23:25:10</td>\n",
       "      <td>2018-08-08 14:18:00</td>\n",
       "      <td>2018-08-13 18:08:28</td>\n",
       "      <td>2018-10-10</td>\n",
       "      <td>7c6400515c67679fbee952a7525281ef</td>\n",
       "      <td>5</td>\n",
       "      <td>None</td>\n",
       "      <td>None</td>\n",
       "      <td>2018-08-14</td>\n",
       "      <td>2018-08-14 21:36:06</td>\n",
       "      <td>5.780069</td>\n",
       "    </tr>\n",
       "  </tbody>\n",
       "</table>\n",
       "</div>"
      ],
      "text/plain": [
       "                           order_id                       customer_id  \\\n",
       "0  e48aa0d2dcec3a2e87348811bcfdf22b  840be0730010e9580efd289bc9f37706   \n",
       "1  c31a859e34e3adac22f376954e19b39d  98f485515e575607a8003b17e91990bd   \n",
       "\n",
       "  order_status order_purchase_timestamp   order_approved_at  \\\n",
       "0    delivered      2017-06-30 15:38:46 2017-06-30 15:50:17   \n",
       "1    delivered      2018-08-07 23:12:29 2018-08-07 23:25:10   \n",
       "\n",
       "  order_delivered_carrier_date order_delivered_customer_date  \\\n",
       "0          2017-07-03 16:22:53           2017-07-15 12:57:24   \n",
       "1          2018-08-08 14:18:00           2018-08-13 18:08:28   \n",
       "\n",
       "  order_estimated_delivery_date                         review_id  \\\n",
       "0                    2017-08-03  07f9bee5d1b850860defd761afa7ff16   \n",
       "1                    2018-10-10  7c6400515c67679fbee952a7525281ef   \n",
       "\n",
       "   review_score review_comment_title review_comment_message  \\\n",
       "0             5                 None                   None   \n",
       "1             5                 None                   None   \n",
       "\n",
       "  review_creation_date review_answer_timestamp  delivery_time  \n",
       "0           2017-07-16     2017-07-18 19:30:34      14.879942  \n",
       "1           2018-08-14     2018-08-14 21:36:06       5.780069  "
      ]
     },
     "execution_count": 81,
     "metadata": {},
     "output_type": "execute_result"
    }
   ],
   "source": [
    "df.head(2)"
   ]
  },
  {
   "cell_type": "markdown",
   "id": "9bf35f0e",
   "metadata": {},
   "source": [
    "Чем меньше среднее время доставки, тем выше оценка"
   ]
  },
  {
   "cell_type": "code",
   "execution_count": 82,
   "id": "0f9c8de3",
   "metadata": {
    "ExecuteTime": {
     "end_time": "2021-11-17T08:56:00.937990Z",
     "start_time": "2021-11-17T08:56:00.885844Z"
    }
   },
   "outputs": [
    {
     "data": {
      "text/html": [
       "<div>\n",
       "<style scoped>\n",
       "    .dataframe tbody tr th:only-of-type {\n",
       "        vertical-align: middle;\n",
       "    }\n",
       "\n",
       "    .dataframe tbody tr th {\n",
       "        vertical-align: top;\n",
       "    }\n",
       "\n",
       "    .dataframe thead th {\n",
       "        text-align: right;\n",
       "    }\n",
       "</style>\n",
       "<table border=\"1\" class=\"dataframe\">\n",
       "  <thead>\n",
       "    <tr style=\"text-align: right;\">\n",
       "      <th></th>\n",
       "      <th>review_score</th>\n",
       "      <th>1</th>\n",
       "      <th>2</th>\n",
       "      <th>3</th>\n",
       "      <th>4</th>\n",
       "      <th>5</th>\n",
       "    </tr>\n",
       "  </thead>\n",
       "  <tbody>\n",
       "    <tr>\n",
       "      <th>delivery_time</th>\n",
       "      <th>mean</th>\n",
       "      <td>20.856306</td>\n",
       "      <td>16.204752</td>\n",
       "      <td>13.808944</td>\n",
       "      <td>11.881622</td>\n",
       "      <td>10.269995</td>\n",
       "    </tr>\n",
       "  </tbody>\n",
       "</table>\n",
       "</div>"
      ],
      "text/plain": [
       "review_score                1          2          3          4          5\n",
       "delivery_time mean  20.856306  16.204752  13.808944  11.881622  10.269995"
      ]
     },
     "execution_count": 82,
     "metadata": {},
     "output_type": "execute_result"
    }
   ],
   "source": [
    "df.groupby(['review_score'])[['delivery_time']].agg([np.mean]).T"
   ]
  },
  {
   "cell_type": "code",
   "execution_count": null,
   "id": "51aea61d",
   "metadata": {},
   "outputs": [],
   "source": []
  },
  {
   "cell_type": "markdown",
   "id": "b4b101ae",
   "metadata": {},
   "source": [
    "#### Объемы продаж"
   ]
  },
  {
   "cell_type": "markdown",
   "id": "18fb4bf3",
   "metadata": {},
   "source": [
    "Большинство заказов имеет оценку 5"
   ]
  },
  {
   "cell_type": "code",
   "execution_count": 38,
   "id": "45b553f0",
   "metadata": {
    "ExecuteTime": {
     "end_time": "2021-11-17T08:46:10.535391Z",
     "start_time": "2021-11-17T08:46:10.262256Z"
    }
   },
   "outputs": [
    {
     "data": {
      "image/png": "[encoded data removed]",
      "text/plain": [
       "<Figure size 432x288 with 1 Axes>"
      ]
     },
     "metadata": {
      "needs_background": "light"
     },
     "output_type": "display_data"
    }
   ],
   "source": [
    "df=sqlio.read_sql_query('''SELECT distinct order_id,review_score FROM public.order_reviews;''', conn)\n",
    "review_score=df.groupby('review_score').count()\n",
    "plt.bar(review_score.index.values, review_score['order_id'])\n",
    "plt.xlabel('Review Score')\n",
    "plt.ylabel('Number of orders')\n",
    "plt.show()"
   ]
  },
  {
   "cell_type": "code",
   "execution_count": 39,
   "id": "c2162fee",
   "metadata": {
    "ExecuteTime": {
     "end_time": "2021-11-17T08:46:10.923269Z",
     "start_time": "2021-11-17T08:46:10.536733Z"
    }
   },
   "outputs": [],
   "source": [
    "df=sqlio.read_sql_query('''select product_id, avg(review_score) as review_score, sum(sold) as sold \n",
    "from (SELECT order_id, product_id, review_score, count(*) as sold FROM public.order_items \n",
    "left join public.order_reviews using(order_id)\n",
    "group by order_id, product_id, review_score) as t\n",
    "group by product_id\n",
    ";''', conn)"
   ]
  },
  {
   "cell_type": "markdown",
   "id": "1ca92118",
   "metadata": {},
   "source": [
    "При этом наибольшие объемы продаж у товаров со средней оценкой 4"
   ]
  },
  {
   "cell_type": "code",
   "execution_count": 40,
   "id": "2f2c3f30",
   "metadata": {
    "ExecuteTime": {
     "end_time": "2021-11-17T08:46:11.106424Z",
     "start_time": "2021-11-17T08:46:10.924741Z"
    }
   },
   "outputs": [
    {
     "data": {
      "image/png": "[encoded data removed]",
      "text/plain": [
       "<Figure size 432x288 with 1 Axes>"
      ]
     },
     "metadata": {
      "needs_background": "light"
     },
     "output_type": "display_data"
    }
   ],
   "source": [
    "plt.scatter(df.review_score,df.sold,s=1)\n",
    "plt.xlabel('Review Score')\n",
    "plt.ylabel('Sold Items')\n",
    "plt.show()"
   ]
  },
  {
   "cell_type": "code",
   "execution_count": 41,
   "id": "51b73b74",
   "metadata": {
    "ExecuteTime": {
     "end_time": "2021-11-17T08:46:11.301453Z",
     "start_time": "2021-11-17T08:46:11.108063Z"
    }
   },
   "outputs": [
    {
     "data": {
      "image/png": "[encoded data removed]",
      "text/plain": [
       "<Figure size 432x288 with 1 Axes>"
      ]
     },
     "metadata": {
      "needs_background": "light"
     },
     "output_type": "display_data"
    }
   ],
   "source": [
    "df['review_score_r']=round(df['review_score'])\n",
    "review_score=df.groupby('review_score_r').sum()\n",
    "plt.bar(review_score.index.values, review_score['sold'])\n",
    "plt.xlabel('Review Score')\n",
    "plt.ylabel('Sold Items')\n",
    "plt.show()"
   ]
  },
  {
   "cell_type": "code",
   "execution_count": null,
   "id": "f5816ec6",
   "metadata": {},
   "outputs": [],
   "source": []
  },
  {
   "cell_type": "markdown",
   "id": "4cf6fc8b",
   "metadata": {},
   "source": [
    "#### О чем пишут в отзывах"
   ]
  },
  {
   "cell_type": "code",
   "execution_count": 42,
   "id": "03a556e1",
   "metadata": {
    "ExecuteTime": {
     "end_time": "2021-11-17T08:46:11.712811Z",
     "start_time": "2021-11-17T08:46:11.302954Z"
    }
   },
   "outputs": [],
   "source": [
    "df=sqlio.read_sql_query('''SELECT * FROM public.order_reviews;''', conn).dropna(subset=['review_comment_message']).reset_index()"
   ]
  },
  {
   "cell_type": "code",
   "execution_count": 43,
   "id": "217bf121",
   "metadata": {
    "ExecuteTime": {
     "end_time": "2021-11-17T08:46:11.785174Z",
     "start_time": "2021-11-17T08:46:11.714163Z"
    }
   },
   "outputs": [],
   "source": [
    "# объединяем отзывы в единый текст. Удаляем цифры из текста\n",
    "text=df['review_comment_message'].str.cat(sep=' ')\n",
    "text = re.sub(r'[0-9]+', '', text)"
   ]
  },
  {
   "cell_type": "code",
   "execution_count": 44,
   "id": "2c69b495",
   "metadata": {
    "ExecuteTime": {
     "end_time": "2021-11-17T08:46:15.922182Z",
     "start_time": "2021-11-17T08:46:11.786968Z"
    }
   },
   "outputs": [
    {
     "data": {
      "text/plain": [
       "FreqDist({'.': 29194, ',': 22471, 'e': 14919, 'o': 14890, 'produto': 13838, 'de': 10854, 'do': 10820, '!': 10550, 'a': 10394, 'não': 8419, ...})"
      ]
     },
     "execution_count": 44,
     "metadata": {},
     "output_type": "execute_result"
    }
   ],
   "source": [
    "# разбиваем текст на слова и находим самые часто встречающиеся. Видим, что есть много шума\n",
    "tokenized_word=word_tokenize(text)\n",
    "fdist = FreqDist(tokenized_word)\n",
    "fdist"
   ]
  },
  {
   "cell_type": "code",
   "execution_count": 45,
   "id": "baf54314",
   "metadata": {
    "ExecuteTime": {
     "end_time": "2021-11-17T08:46:16.255621Z",
     "start_time": "2021-11-17T08:46:15.923776Z"
    }
   },
   "outputs": [],
   "source": [
    "# чистим от шума и пунктуации, используем библиотеку nltk\n",
    "\n",
    "stop_words=set(stopwords.words(\"portuguese\"))\n",
    "\n",
    "filtered=[]\n",
    "for w in tokenized_word:\n",
    "    if w not in stop_words and w not in list(string.punctuation):\n",
    "        filtered.append(w)"
   ]
  },
  {
   "cell_type": "code",
   "execution_count": 46,
   "id": "da6facc7",
   "metadata": {
    "ExecuteTime": {
     "end_time": "2021-11-17T08:46:16.261079Z",
     "start_time": "2021-11-17T08:46:16.257290Z"
    }
   },
   "outputs": [
    {
     "data": {
      "text/plain": [
       "(313587, 541614)"
      ]
     },
     "execution_count": 46,
     "metadata": {},
     "output_type": "execute_result"
    }
   ],
   "source": [
    "# сократили текст почти в два раза\n",
    "len(filtered),len(tokenized_word)"
   ]
  },
  {
   "cell_type": "code",
   "execution_count": 47,
   "id": "1526aa38",
   "metadata": {
    "ExecuteTime": {
     "end_time": "2021-11-17T08:46:25.414753Z",
     "start_time": "2021-11-17T08:46:16.262263Z"
    }
   },
   "outputs": [],
   "source": [
    "# приведем однокоренные слова к исходному слову\n",
    "ps = nltk.stem.RSLPStemmer()\n",
    "stemmed_words = []\n",
    "for w in filtered: \n",
    "    stemmed_words.append(ps.stem(w))"
   ]
  },
  {
   "cell_type": "code",
   "execution_count": 48,
   "id": "cb8c4a09",
   "metadata": {
    "ExecuteTime": {
     "end_time": "2021-11-17T08:46:25.455130Z",
     "start_time": "2021-11-17T08:46:25.416268Z"
    }
   },
   "outputs": [
    {
     "data": {
      "text/plain": [
       "(20882, 9500)"
      ]
     },
     "execution_count": 48,
     "metadata": {},
     "output_type": "execute_result"
    }
   ],
   "source": [
    "# видим, что сократили число уникальных слов вдвое\n",
    "len(set(filtered)),len(set(stemmed_words))\n",
    "# ,len(set(lemmatized_words))"
   ]
  },
  {
   "cell_type": "code",
   "execution_count": 49,
   "id": "e28d0779",
   "metadata": {
    "ExecuteTime": {
     "end_time": "2021-11-17T08:46:29.424787Z",
     "start_time": "2021-11-17T08:46:25.456576Z"
    }
   },
   "outputs": [],
   "source": [
    "# для дальнейшем обработки используем португальскую языковую модель pt_core_news_md\n",
    "nlp = spacy.load('pt_core_news_md')"
   ]
  },
  {
   "cell_type": "code",
   "execution_count": 50,
   "id": "84c5b409",
   "metadata": {
    "ExecuteTime": {
     "end_time": "2021-11-17T08:49:33.315563Z",
     "start_time": "2021-11-17T08:46:29.426735Z"
    }
   },
   "outputs": [],
   "source": [
    "# преобразуем очищенный массив слов в формат модели (делим массив пополам, т.к ограничение 1 млн знаков)\n",
    "n=round(len(stemmed_words)/2)\n",
    "document1 = nlp(\" \".join(stemmed_words[:n]))\n",
    "document2 = nlp(\" \".join(stemmed_words[n:]))"
   ]
  },
  {
   "cell_type": "code",
   "execution_count": 51,
   "id": "7fc94c11",
   "metadata": {
    "ExecuteTime": {
     "end_time": "2021-11-17T08:49:33.447948Z",
     "start_time": "2021-11-17T08:49:33.317654Z"
    }
   },
   "outputs": [],
   "source": [
    " # приведем словоформы к их словарной форме (лемме)\n",
    "lemmed_words=[]\n",
    "for token in document1: lemmed_words.append(token.lemma_)\n",
    "for token in document2: lemmed_words.append(token.lemma_)"
   ]
  },
  {
   "cell_type": "code",
   "execution_count": 52,
   "id": "b73c56b6",
   "metadata": {
    "ExecuteTime": {
     "end_time": "2021-11-17T08:49:33.483701Z",
     "start_time": "2021-11-17T08:49:33.450581Z"
    }
   },
   "outputs": [
    {
     "data": {
      "text/plain": [
       "(9500, 9168)"
      ]
     },
     "execution_count": 52,
     "metadata": {},
     "output_type": "execute_result"
    }
   ],
   "source": [
    "len(set(stemmed_words)),len(set(lemmed_words))"
   ]
  },
  {
   "cell_type": "code",
   "execution_count": 53,
   "id": "9910ab8b",
   "metadata": {
    "ExecuteTime": {
     "end_time": "2021-11-17T08:49:33.654497Z",
     "start_time": "2021-11-17T08:49:33.485353Z"
    }
   },
   "outputs": [
    {
     "data": {
      "text/plain": [
       "FreqDist({'produt': 19622, 'entreg': 11898, 'prazer': 8471, 'compr': 7311, 'o': 6869, 'cheg': 6480, 'receb': 6461, 'bom': 6048, 'ant': 5645, 'recom': 4272, ...})"
      ]
     },
     "execution_count": 53,
     "metadata": {},
     "output_type": "execute_result"
    }
   ],
   "source": [
    "# считаем частоту слов\n",
    "fdist = FreqDist(lemmed_words)\n",
    "fdist"
   ]
  },
  {
   "cell_type": "code",
   "execution_count": 54,
   "id": "35c84cb9",
   "metadata": {
    "ExecuteTime": {
     "end_time": "2021-11-17T08:49:33.827858Z",
     "start_time": "2021-11-17T08:49:33.656244Z"
    }
   },
   "outputs": [
    {
     "data": {
      "image/png": "[encoded data removed]",
      "text/plain": [
       "<Figure size 432x288 with 1 Axes>"
      ]
     },
     "metadata": {
      "needs_background": "light"
     },
     "output_type": "display_data"
    },
    {
     "data": {
      "text/plain": [
       "<AxesSubplot:xlabel='Samples', ylabel='Counts'>"
      ]
     },
     "execution_count": 54,
     "metadata": {},
     "output_type": "execute_result"
    }
   ],
   "source": [
    "fdist.plot(20)"
   ]
  },
  {
   "cell_type": "code",
   "execution_count": 55,
   "id": "711d9eb1",
   "metadata": {
    "ExecuteTime": {
     "end_time": "2021-11-17T08:49:33.840249Z",
     "start_time": "2021-11-17T08:49:33.829227Z"
    }
   },
   "outputs": [],
   "source": [
    "df = pd.DataFrame.from_dict(dict(fdist),orient='index').sort_values(by=0,ascending=False).reset_index().rename(columns={'index':'word',0:'fdist'})"
   ]
  },
  {
   "cell_type": "code",
   "execution_count": 56,
   "id": "ea403de4",
   "metadata": {
    "ExecuteTime": {
     "end_time": "2021-11-17T08:49:36.429683Z",
     "start_time": "2021-11-17T08:49:33.842250Z"
    }
   },
   "outputs": [
    {
     "name": "stderr",
     "output_type": "stream",
     "text": [
      "/usr/local/lib/python3.7/dist-packages/ipykernel_launcher.py:9: SettingWithCopyWarning: \n",
      "A value is trying to be set on a copy of a slice from a DataFrame.\n",
      "Try using .loc[row_indexer,col_indexer] = value instead\n",
      "\n",
      "See the caveats in the documentation: https://pandas.pydata.org/pandas-docs/stable/user_guide/indexing.html#returning-a-view-versus-a-copy\n",
      "  if __name__ == '__main__':\n"
     ]
    }
   ],
   "source": [
    "# переведем на русский самые частые слова\n",
    "translator = Translator()\n",
    "ru=[]\n",
    "fr_df=df[:20]\n",
    "\n",
    "for word in range(len(fr_df)):\n",
    "    ru.append(translator.translate(fr_df['word'][word], src='pt', dest='ru').text)\n",
    "    \n",
    "fr_df['ru']=ru"
   ]
  },
  {
   "cell_type": "code",
   "execution_count": 57,
   "id": "033e5a29",
   "metadata": {
    "ExecuteTime": {
     "end_time": "2021-11-17T08:49:36.632973Z",
     "start_time": "2021-11-17T08:49:36.431605Z"
    }
   },
   "outputs": [
    {
     "data": {
      "text/plain": [
       "<function matplotlib.pyplot.show(close=None, block=None)>"
      ]
     },
     "execution_count": 57,
     "metadata": {},
     "output_type": "execute_result"
    },
    {
     "data": {
      "image/png": "[encoded data removed]",
      "text/plain": [
       "<Figure size 432x288 with 1 Axes>"
      ]
     },
     "metadata": {
      "needs_background": "light"
     },
     "output_type": "display_data"
    }
   ],
   "source": [
    "plt.bar(fr_df.ru,fr_df.fdist)\n",
    "plt.xticks(rotation=90)\n",
    "plt.show"
   ]
  },
  {
   "cell_type": "markdown",
   "id": "2dfc24a8",
   "metadata": {},
   "source": [
    "Видно, что остались предлоги и междометия. Посмотрим на самые частые прилагательные, существительные, глаголы"
   ]
  },
  {
   "cell_type": "code",
   "execution_count": 58,
   "id": "02d2f60e",
   "metadata": {
    "ExecuteTime": {
     "end_time": "2021-11-17T08:49:39.098261Z",
     "start_time": "2021-11-17T08:49:36.635135Z"
    }
   },
   "outputs": [],
   "source": [
    "# самые частые прилагательные\n",
    "\n",
    "adjs = []\n",
    "for token in document1:\n",
    "    if token.pos_ == 'ADJ':\n",
    "        adjs.append(token.lemma_)\n",
    "for token in document2:\n",
    "    if token.pos_ == 'ADJ':\n",
    "        adjs.append(token.lemma_)\n",
    "        \n",
    "adjs_tally = Counter(adjs)\n",
    "\n",
    "adj_df=pd.DataFrame.from_dict(dict(adjs_tally.most_common(20)),orient='index').sort_values(by=0,ascending=False).reset_index().rename(columns={'index':'word',0:'fdist'})\n",
    "\n",
    "# переведем на русский\n",
    "translator = Translator()\n",
    "ru=[]\n",
    "\n",
    "for word in range(len(adj_df)):\n",
    "    ru.append(translator.translate(adj_df['word'][word], src='pt', dest='ru').text)\n",
    "    \n",
    "adj_df['ru']=ru"
   ]
  },
  {
   "cell_type": "markdown",
   "id": "58fc42dc",
   "metadata": {},
   "source": [
    "Самые частые прилагательные имеют позитивную окраску (хороший, правильно, идеально, лучший, красивый, быстро)"
   ]
  },
  {
   "cell_type": "code",
   "execution_count": 59,
   "id": "17e9c5c9",
   "metadata": {
    "ExecuteTime": {
     "end_time": "2021-11-17T08:49:39.281139Z",
     "start_time": "2021-11-17T08:49:39.100851Z"
    }
   },
   "outputs": [
    {
     "data": {
      "text/plain": [
       "<function matplotlib.pyplot.show(close=None, block=None)>"
      ]
     },
     "execution_count": 59,
     "metadata": {},
     "output_type": "execute_result"
    },
    {
     "data": {
      "image/png": "[encoded data removed]",
      "text/plain": [
       "<Figure size 432x288 with 1 Axes>"
      ]
     },
     "metadata": {
      "needs_background": "light"
     },
     "output_type": "display_data"
    }
   ],
   "source": [
    "data=adj_df[:20]\n",
    "plt.bar(data.ru,data.fdist)\n",
    "plt.xticks(rotation=90)\n",
    "plt.show"
   ]
  },
  {
   "cell_type": "code",
   "execution_count": 60,
   "id": "0edb5a74",
   "metadata": {
    "ExecuteTime": {
     "end_time": "2021-11-17T08:49:41.761304Z",
     "start_time": "2021-11-17T08:49:39.282960Z"
    }
   },
   "outputs": [],
   "source": [
    "verbs = []\n",
    "for token in document1:\n",
    "    if token.pos_ == 'VERB':\n",
    "        verbs.append(token.lemma_)\n",
    "for token in document2:\n",
    "    if token.pos_ == 'VERB':\n",
    "        verbs.append(token.lemma_)\n",
    "        \n",
    "verbs_tally = Counter(verbs)\n",
    "\n",
    "verbs_df=pd.DataFrame.from_dict(dict(verbs_tally.most_common(20)),orient='index').sort_values(by=0,ascending=False).reset_index().rename(columns={'index':'word',0:'fdist'})\n",
    "\n",
    "translator = Translator()\n",
    "ru=[]\n",
    "\n",
    "for word in range(len(verbs_df)):\n",
    "    ru.append(translator.translate(verbs_df['word'][word], src='pt', dest='ru').text)\n",
    "    \n",
    "verbs_df['ru']=ru"
   ]
  },
  {
   "cell_type": "code",
   "execution_count": 61,
   "id": "b6c977f6",
   "metadata": {
    "ExecuteTime": {
     "end_time": "2021-11-17T08:49:41.769857Z",
     "start_time": "2021-11-17T08:49:41.763242Z"
    }
   },
   "outputs": [
    {
     "data": {
      "text/html": [
       "<div>\n",
       "<style scoped>\n",
       "    .dataframe tbody tr th:only-of-type {\n",
       "        vertical-align: middle;\n",
       "    }\n",
       "\n",
       "    .dataframe tbody tr th {\n",
       "        vertical-align: top;\n",
       "    }\n",
       "\n",
       "    .dataframe thead th {\n",
       "        text-align: right;\n",
       "    }\n",
       "</style>\n",
       "<table border=\"1\" class=\"dataframe\">\n",
       "  <thead>\n",
       "    <tr style=\"text-align: right;\">\n",
       "      <th></th>\n",
       "      <th>word</th>\n",
       "      <th>fdist</th>\n",
       "      <th>ru</th>\n",
       "    </tr>\n",
       "  </thead>\n",
       "  <tbody>\n",
       "    <tr>\n",
       "      <th>0</th>\n",
       "      <td>entreg</td>\n",
       "      <td>11886</td>\n",
       "      <td>доставлен</td>\n",
       "    </tr>\n",
       "    <tr>\n",
       "      <th>1</th>\n",
       "      <td>receb</td>\n",
       "      <td>6461</td>\n",
       "      <td>Получать</td>\n",
       "    </tr>\n",
       "    <tr>\n",
       "      <th>2</th>\n",
       "      <td>cheg</td>\n",
       "      <td>6316</td>\n",
       "      <td>прибывший</td>\n",
       "    </tr>\n",
       "    <tr>\n",
       "      <th>3</th>\n",
       "      <td>gost</td>\n",
       "      <td>2318</td>\n",
       "      <td>нравиться</td>\n",
       "    </tr>\n",
       "    <tr>\n",
       "      <th>4</th>\n",
       "      <td>produt</td>\n",
       "      <td>1493</td>\n",
       "      <td>продукт</td>\n",
       "    </tr>\n",
       "  </tbody>\n",
       "</table>\n",
       "</div>"
      ],
      "text/plain": [
       "     word  fdist         ru\n",
       "0  entreg  11886  доставлен\n",
       "1   receb   6461   Получать\n",
       "2    cheg   6316  прибывший\n",
       "3    gost   2318  нравиться\n",
       "4  produt   1493    продукт"
      ]
     },
     "execution_count": 61,
     "metadata": {},
     "output_type": "execute_result"
    }
   ],
   "source": [
    "verbs_df.head()"
   ]
  },
  {
   "cell_type": "code",
   "execution_count": 62,
   "id": "f472ee92",
   "metadata": {
    "ExecuteTime": {
     "end_time": "2021-11-17T08:49:41.990540Z",
     "start_time": "2021-11-17T08:49:41.771173Z"
    }
   },
   "outputs": [
    {
     "data": {
      "text/plain": [
       "<function matplotlib.pyplot.show(close=None, block=None)>"
      ]
     },
     "execution_count": 62,
     "metadata": {},
     "output_type": "execute_result"
    },
    {
     "data": {
      "image/png": "[encoded data removed]",
      "text/plain": [
       "<Figure size 432x288 with 1 Axes>"
      ]
     },
     "metadata": {
      "needs_background": "light"
     },
     "output_type": "display_data"
    }
   ],
   "source": [
    "# самые частые глаголы\n",
    "data=verbs_df\n",
    "plt.bar(data.ru,data.fdist)\n",
    "plt.xticks(rotation=90)\n",
    "plt.show"
   ]
  },
  {
   "cell_type": "markdown",
   "id": "ef603598",
   "metadata": {
    "ExecuteTime": {
     "end_time": "2021-11-16T08:42:05.347437Z",
     "start_time": "2021-11-16T08:42:05.343815Z"
    }
   },
   "source": [
    "Глаголы касаются преимуществнно доставки (доставлен, получать, ждать, отправить) и отношения к товару (нравиться, рекомендовать, превосходить)"
   ]
  },
  {
   "cell_type": "code",
   "execution_count": 63,
   "id": "36e0aa5e",
   "metadata": {
    "ExecuteTime": {
     "end_time": "2021-11-17T08:49:41.994443Z",
     "start_time": "2021-11-17T08:49:41.992018Z"
    }
   },
   "outputs": [],
   "source": [
    "# translator.translate(nouns_df['word'][0], src='pt', dest='ru').text"
   ]
  },
  {
   "cell_type": "code",
   "execution_count": 64,
   "id": "9bfad395",
   "metadata": {
    "ExecuteTime": {
     "end_time": "2021-11-17T08:49:44.512963Z",
     "start_time": "2021-11-17T08:49:41.995828Z"
    }
   },
   "outputs": [],
   "source": [
    "nouns = []\n",
    "for token in document1:\n",
    "    if token.pos_ == 'NOUN':\n",
    "        nouns.append(token.lemma_)\n",
    "for token in document2:\n",
    "    if token.pos_ == 'NOUN':\n",
    "        nouns.append(token.lemma_)\n",
    "        \n",
    "nouns_tally = Counter(nouns)\n",
    "\n",
    "# отбираем самые частые существительные\n",
    "nouns_df=pd.DataFrame.from_dict(dict(nouns_tally.most_common(20)),orient='index').sort_values(by=0,ascending=False).reset_index().rename(columns={'index':'word',0:'fdist'})\n",
    "\n",
    "# переведем на русский\n",
    "translator = Translator()\n",
    "ru=[]\n",
    "\n",
    "for word in range(len(nouns_df)):\n",
    "    ru.append(translator.translate(nouns_df['word'][word], src='pt', dest='ru').text)\n",
    "    \n",
    "nouns_df['ru']=ru"
   ]
  },
  {
   "cell_type": "code",
   "execution_count": 65,
   "id": "515c012c",
   "metadata": {
    "ExecuteTime": {
     "end_time": "2021-11-17T08:49:44.520835Z",
     "start_time": "2021-11-17T08:49:44.514405Z"
    }
   },
   "outputs": [
    {
     "data": {
      "text/html": [
       "<div>\n",
       "<style scoped>\n",
       "    .dataframe tbody tr th:only-of-type {\n",
       "        vertical-align: middle;\n",
       "    }\n",
       "\n",
       "    .dataframe tbody tr th {\n",
       "        vertical-align: top;\n",
       "    }\n",
       "\n",
       "    .dataframe thead th {\n",
       "        text-align: right;\n",
       "    }\n",
       "</style>\n",
       "<table border=\"1\" class=\"dataframe\">\n",
       "  <thead>\n",
       "    <tr style=\"text-align: right;\">\n",
       "      <th></th>\n",
       "      <th>word</th>\n",
       "      <th>fdist</th>\n",
       "      <th>ru</th>\n",
       "    </tr>\n",
       "  </thead>\n",
       "  <tbody>\n",
       "    <tr>\n",
       "      <th>0</th>\n",
       "      <td>produt</td>\n",
       "      <td>15197</td>\n",
       "      <td>продукт</td>\n",
       "    </tr>\n",
       "    <tr>\n",
       "      <th>1</th>\n",
       "      <td>prazer</td>\n",
       "      <td>7915</td>\n",
       "      <td>удовольствие</td>\n",
       "    </tr>\n",
       "    <tr>\n",
       "      <th>2</th>\n",
       "      <td>compr</td>\n",
       "      <td>5523</td>\n",
       "      <td>купить</td>\n",
       "    </tr>\n",
       "    <tr>\n",
       "      <th>3</th>\n",
       "      <td>ant</td>\n",
       "      <td>4062</td>\n",
       "      <td>муравей</td>\n",
       "    </tr>\n",
       "    <tr>\n",
       "      <th>4</th>\n",
       "      <td>dia</td>\n",
       "      <td>2122</td>\n",
       "      <td>день</td>\n",
       "    </tr>\n",
       "  </tbody>\n",
       "</table>\n",
       "</div>"
      ],
      "text/plain": [
       "     word  fdist            ru\n",
       "0  produt  15197       продукт\n",
       "1  prazer   7915  удовольствие\n",
       "2   compr   5523        купить\n",
       "3     ant   4062       муравей\n",
       "4     dia   2122          день"
      ]
     },
     "execution_count": 65,
     "metadata": {},
     "output_type": "execute_result"
    }
   ],
   "source": [
    "nouns_df.head()"
   ]
  },
  {
   "cell_type": "code",
   "execution_count": 66,
   "id": "e8e3e757",
   "metadata": {
    "ExecuteTime": {
     "end_time": "2021-11-17T08:49:44.734496Z",
     "start_time": "2021-11-17T08:49:44.522262Z"
    }
   },
   "outputs": [
    {
     "data": {
      "text/plain": [
       "<function matplotlib.pyplot.show(close=None, block=None)>"
      ]
     },
     "execution_count": 66,
     "metadata": {},
     "output_type": "execute_result"
    },
    {
     "data": {
      "image/png": "[encoded data removed]",
      "text/plain": [
       "<Figure size 432x288 with 1 Axes>"
      ]
     },
     "metadata": {
      "needs_background": "light"
     },
     "output_type": "display_data"
    }
   ],
   "source": [
    "# самые частые существительные\n",
    "data=nouns_df\n",
    "plt.bar(data.ru,data.fdist)\n",
    "plt.xticks(rotation=90)\n",
    "plt.show"
   ]
  },
  {
   "cell_type": "markdown",
   "id": "eceec32f",
   "metadata": {},
   "source": [
    "Больше всего пользователй волнует доставка (темп, момент, ожидание), цена, качество товара (доволен, рекомендовать, удовольствие)"
   ]
  },
  {
   "cell_type": "markdown",
   "id": "61aabfdf",
   "metadata": {
    "ExecuteTime": {
     "end_time": "2021-11-14T20:14:34.054703Z",
     "start_time": "2021-11-14T20:14:34.052301Z"
    }
   },
   "source": [
    "Посмотрим, в каком контексте встречаются конкретные слова в отзывах. Например, явно вызывает вопросы слово муравей в топе существительных и бальзамировать в топе глаголов"
   ]
  },
  {
   "cell_type": "code",
   "execution_count": 67,
   "id": "4d16ff36",
   "metadata": {
    "ExecuteTime": {
     "end_time": "2021-11-17T08:49:45.056744Z",
     "start_time": "2021-11-17T08:49:44.735631Z"
    }
   },
   "outputs": [],
   "source": [
    "document = nlp(text[:10000])"
   ]
  },
  {
   "cell_type": "code",
   "execution_count": 68,
   "id": "4cf78915",
   "metadata": {
    "ExecuteTime": {
     "end_time": "2021-11-17T08:49:45.083175Z",
     "start_time": "2021-11-17T08:49:45.058136Z"
    },
    "scrolled": true
   },
   "outputs": [
    {
     "data": {
      "text/markdown": [
       "Recebi bem **ant**es do prazo estipulado."
      ],
      "text/plain": [
       "<IPython.core.display.Markdown object>"
      ]
     },
     "metadata": {},
     "output_type": "display_data"
    },
    {
     "data": {
      "text/markdown": [
       "\r",
       "  Vendedor confiável, produto ok e entrega **ant**es do prazo."
      ],
      "text/plain": [
       "<IPython.core.display.Markdown object>"
      ]
     },
     "metadata": {},
     "output_type": "display_data"
    },
    {
     "data": {
      "text/markdown": [
       "A entrega foi efetuada muito **ant**es do prazo dado."
      ],
      "text/plain": [
       "<IPython.core.display.Markdown object>"
      ]
     },
     "metadata": {},
     "output_type": "display_data"
    },
    {
     "data": {
      "text/markdown": [
       "Comprei gato por lebre Sempre compro pela Internet e a entrega ocorre **ant**es do prazo combinado, que acredito ser o prazo máximo."
      ],
      "text/plain": [
       "<IPython.core.display.Markdown object>"
      ]
     },
     "metadata": {},
     "output_type": "display_data"
    },
    {
     "data": {
      "text/markdown": [
       "otimo vendedor chegou ate **ant**es do prazo , adorei o produto Processo de compra tranquilo e eficiente."
      ],
      "text/plain": [
       "<IPython.core.display.Markdown object>"
      ]
     },
     "metadata": {},
     "output_type": "display_data"
    },
    {
     "data": {
      "text/markdown": [
       "Faltou Controle Remoto para Ar Condicionado Consul boa MT lindo Ocorreu tudo como contratado sendo a entrega realizada **ant**es do prazo \r",
       "  Estou satisfeita\r",
       "  Amei achei lindo ,muito delicado adorei Ótima loja para parceria:"
      ],
      "text/plain": [
       "<IPython.core.display.Markdown object>"
      ]
     },
     "metadata": {},
     "output_type": "display_data"
    },
    {
     "data": {
      "text/markdown": [
       "sempre chega com muiiita **ant**ecedencia.."
      ],
      "text/plain": [
       "<IPython.core.display.Markdown object>"
      ]
     },
     "metadata": {},
     "output_type": "display_data"
    },
    {
     "data": {
      "text/markdown": [
       "Produto de muito boa qualidade, chegou **ant**es do prazo prometido Este foi o pedido\r",
       " "
      ],
      "text/plain": [
       "<IPython.core.display.Markdown object>"
      ]
     },
     "metadata": {},
     "output_type": "display_data"
    },
    {
     "data": {
      "text/markdown": [
       "Produto de acordo com o anunciado e a entrega super rápida , entregou bem **ant**es do prazo ."
      ],
      "text/plain": [
       "<IPython.core.display.Markdown object>"
      ]
     },
     "metadata": {},
     "output_type": "display_data"
    },
    {
     "data": {
      "text/markdown": [
       "Demorou de mais pra entrega  super rapido a entrega .... chegou **ant**es da data...  "
      ],
      "text/plain": [
       "<IPython.core.display.Markdown object>"
      ]
     },
     "metadata": {},
     "output_type": "display_data"
    },
    {
     "data": {
      "text/markdown": [
       "Chegou apenas uma peça, mas na nota e na gar**ant**ia constam as duas joias."
      ],
      "text/plain": [
       "<IPython.core.display.Markdown object>"
      ]
     },
     "metadata": {},
     "output_type": "display_data"
    },
    {
     "data": {
      "text/markdown": [
       "Precisa melhorar nas entregas Espero receber esta semana, o que não seria tão extravag**ant**e, porém..."
      ],
      "text/plain": [
       "<IPython.core.display.Markdown object>"
      ]
     },
     "metadata": {},
     "output_type": "display_data"
    },
    {
     "data": {
      "text/markdown": [
       "Contato com a loja muito dificil,t**ant**o via e-mail qto por telef."
      ],
      "text/plain": [
       "<IPython.core.display.Markdown object>"
      ]
     },
     "metadata": {},
     "output_type": "display_data"
    },
    {
     "data": {
      "text/markdown": [
       "No site das lannister costumam chegar **ant**es do prazo."
      ],
      "text/plain": [
       "<IPython.core.display.Markdown object>"
      ]
     },
     "metadata": {},
     "output_type": "display_data"
    },
    {
     "data": {
      "text/markdown": [
       "Entrega **ant**es do prazo."
      ],
      "text/plain": [
       "<IPython.core.display.Markdown object>"
      ]
     },
     "metadata": {},
     "output_type": "display_data"
    },
    {
     "data": {
      "text/markdown": [
       "Cancelaram a minha compra um dia **ant**es da entrega, liguei para a lannister e os atendentes não sabiam o que estava acontecendo, uma bagunça, agora estou esperando para ver se vai ser cobrado produto de qualidade e eficiência na entrega."
      ],
      "text/plain": [
       "<IPython.core.display.Markdown object>"
      ]
     },
     "metadata": {},
     "output_type": "display_data"
    },
    {
     "data": {
      "text/markdown": [
       "recebi muito **ant**es do combinado."
      ],
      "text/plain": [
       "<IPython.core.display.Markdown object>"
      ]
     },
     "metadata": {},
     "output_type": "display_data"
    },
    {
     "data": {
      "text/markdown": [
       "Entrega bem **ant**es do prazo perfeito!!"
      ],
      "text/plain": [
       "<IPython.core.display.Markdown object>"
      ]
     },
     "metadata": {},
     "output_type": "display_data"
    },
    {
     "data": {
      "text/markdown": [
       "Creme maravilhoso e entrega super rápida Tentando cancelar o produto desde **ant**es da emissão da nota fiscal."
      ],
      "text/plain": [
       "<IPython.core.display.Markdown object>"
      ]
     },
     "metadata": {},
     "output_type": "display_data"
    },
    {
     "data": {
      "text/markdown": [
       "Chegou hoje \r",
       " sem comentários Boa Noite\r",
       " \r",
       " é lamentável, esta loja que t**ant**as compras eu ja fiz e hoje não me da satisfação sequer de um relógio na importância de , reais ... um produto com defeito e até agora não me deu retor Muito bom!"
      ],
      "text/plain": [
       "<IPython.core.display.Markdown object>"
      ]
     },
     "metadata": {},
     "output_type": "display_data"
    }
   ],
   "source": [
    "find_sentences_with_keyword(keyword=\"ant\", document=document)"
   ]
  },
  {
   "cell_type": "markdown",
   "id": "0a8f0aac",
   "metadata": {},
   "source": [
    "Видимо в ходе приведения к корню предлог antes (до) прератился в муравья. Аналогичная ситуация с embalado/embalagem (упакованный/упаковка), которое превратилось в глагол embal - бальзамировать. Нужна более тщательная обработка слов при подготовке.\n",
    "\n",
    "Интересно, что слово produt (продукт) попало не только в существительные, но в прилагательные и глаголы"
   ]
  },
  {
   "cell_type": "code",
   "execution_count": null,
   "id": "9a2d8a71",
   "metadata": {},
   "outputs": [],
   "source": []
  },
  {
   "cell_type": "code",
   "execution_count": null,
   "id": "344b60c0",
   "metadata": {},
   "outputs": [],
   "source": []
  },
  {
   "cell_type": "markdown",
   "id": "21c2b2b5",
   "metadata": {
    "ExecuteTime": {
     "end_time": "2021-11-15T09:10:54.366425Z",
     "start_time": "2021-11-15T09:10:54.363875Z"
    }
   },
   "source": [
    "#### Предсказание оценки по отзыву"
   ]
  },
  {
   "cell_type": "markdown",
   "id": "25beae9e",
   "metadata": {},
   "source": [
    "На основе имеющихся отзывов и оценок заказов можно обучить модель, которая будет предсказывать оценку по отзыву"
   ]
  },
  {
   "cell_type": "code",
   "execution_count": 69,
   "id": "2d9cc69b",
   "metadata": {
    "ExecuteTime": {
     "end_time": "2021-11-17T08:49:45.473456Z",
     "start_time": "2021-11-17T08:49:45.084228Z"
    },
    "scrolled": true
   },
   "outputs": [],
   "source": [
    "df=sqlio.read_sql_query('''SELECT * FROM public.order_reviews;''', conn).dropna(subset=['review_comment_message']).reset_index()"
   ]
  },
  {
   "cell_type": "code",
   "execution_count": 70,
   "id": "0bf3c085",
   "metadata": {
    "ExecuteTime": {
     "end_time": "2021-11-17T08:49:45.478091Z",
     "start_time": "2021-11-17T08:49:45.475037Z"
    }
   },
   "outputs": [],
   "source": [
    "stop_words=list(stop_words)+['amos', 'at', 'est', 'estiv', 'f', 'h', 'houv', 'j', 'm', 'n', 'nhamos', 'ramos', 's', 'ser', 'ssemos', 't', 'tamb', 'ter', 'tiv', 'vamos', 'voc']"
   ]
  },
  {
   "cell_type": "code",
   "execution_count": 71,
   "id": "1264c80d",
   "metadata": {
    "ExecuteTime": {
     "end_time": "2021-11-17T08:49:45.902930Z",
     "start_time": "2021-11-17T08:49:45.479204Z"
    }
   },
   "outputs": [],
   "source": [
    "# уберем из отзывов ненужные символы и шум\n",
    "\n",
    "token = RegexpTokenizer(r'[a-zA-Z0-9]+')\n",
    "cv = CountVectorizer(lowercase=True, stop_words=stop_words, ngram_range = (1,1), tokenizer = token.tokenize)\n",
    "text_counts = cv.fit_transform(df['review_comment_message'])"
   ]
  },
  {
   "cell_type": "code",
   "execution_count": 72,
   "id": "5045a7e9",
   "metadata": {
    "ExecuteTime": {
     "end_time": "2021-11-17T08:49:45.912075Z",
     "start_time": "2021-11-17T08:49:45.904193Z"
    }
   },
   "outputs": [],
   "source": [
    "# разобъем отзывы на обучающую и тестовую выборки\n",
    "\n",
    "X_train, X_test, y_train, y_test = train_test_split(\n",
    "    text_counts, df['review_score'], test_size=0.3, random_state=1)"
   ]
  },
  {
   "cell_type": "code",
   "execution_count": 73,
   "id": "5cc39f2e",
   "metadata": {
    "ExecuteTime": {
     "end_time": "2021-11-17T08:49:46.059063Z",
     "start_time": "2021-11-17T08:49:45.913716Z"
    }
   },
   "outputs": [],
   "source": [
    "# используем модель Multinomial Naive Bayes\n",
    "\n",
    "clf = MultinomialNB().fit(X_train, y_train)\n",
    "predicted = clf.predict(X_test)"
   ]
  },
  {
   "cell_type": "code",
   "execution_count": 74,
   "id": "bd3c6e2a",
   "metadata": {
    "ExecuteTime": {
     "end_time": "2021-11-17T08:49:46.064179Z",
     "start_time": "2021-11-17T08:49:46.060399Z"
    }
   },
   "outputs": [
    {
     "name": "stdout",
     "output_type": "stream",
     "text": [
      "MultinomialNB Accuracy: 0.6655278997885147\n"
     ]
    }
   ],
   "source": [
    "# проверим точность предсказания\n",
    "\n",
    "print(\"MultinomialNB Accuracy:\", metrics.accuracy_score(y_test, predicted))"
   ]
  },
  {
   "cell_type": "markdown",
   "id": "0bc893dc",
   "metadata": {
    "ExecuteTime": {
     "end_time": "2021-11-16T08:54:27.152742Z",
     "start_time": "2021-11-16T08:54:27.149611Z"
    }
   },
   "source": [
    "Точность модели довольно низкая. Можно улучшать точность за счет более качественной предобработки отзывов и изменения параметров модели"
   ]
  },
  {
   "cell_type": "code",
   "execution_count": null,
   "id": "ba753b5a",
   "metadata": {},
   "outputs": [],
   "source": []
  },
  {
   "cell_type": "code",
   "execution_count": null,
   "id": "55a61df6",
   "metadata": {},
   "outputs": [],
   "source": []
  },
  {
   "cell_type": "code",
   "execution_count": null,
   "id": "cf4d19e3",
   "metadata": {},
   "outputs": [],
   "source": []
  },
  {
   "cell_type": "code",
   "execution_count": null,
   "id": "e70eb235",
   "metadata": {},
   "outputs": [],
   "source": []
  },
  {
   "cell_type": "code",
   "execution_count": null,
   "id": "b56dda9c",
   "metadata": {},
   "outputs": [],
   "source": []
  },
  {
   "cell_type": "code",
   "execution_count": null,
   "id": "672226ee",
   "metadata": {},
   "outputs": [],
   "source": []
  },
  {
   "cell_type": "code",
   "execution_count": null,
   "id": "bf2bade1",
   "metadata": {},
   "outputs": [],
   "source": []
  },
  {
   "cell_type": "code",
   "execution_count": null,
   "id": "15cad81d",
   "metadata": {},
   "outputs": [],
   "source": []
  }
 ],
 "metadata": {
  "kernelspec": {
   "display_name": "Python 3",
   "language": "python",
   "name": "python3"
  },
  "language_info": {
   "codemirror_mode": {
    "name": "ipython",
    "version": 3
   },
   "file_extension": ".py",
   "mimetype": "text/x-python",
   "name": "python",
   "nbconvert_exporter": "python",
   "pygments_lexer": "ipython3",
   "version": "3.7.5"
  }
 },
 "nbformat": 4,
 "nbformat_minor": 5
}
